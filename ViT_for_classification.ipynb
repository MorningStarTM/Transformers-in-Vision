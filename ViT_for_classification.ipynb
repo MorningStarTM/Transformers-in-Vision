{
  "nbformat": 4,
  "nbformat_minor": 0,
  "metadata": {
    "colab": {
      "provenance": [],
      "mount_file_id": "1oVVIwQSVIXFTagDvpIdhCf0u2_rluVdX",
      "authorship_tag": "ABX9TyPdke9QUAAcekxqUGEHvlFB",
      "include_colab_link": true
    },
    "kernelspec": {
      "name": "python3",
      "display_name": "Python 3"
    },
    "language_info": {
      "name": "python"
    }
  },
  "cells": [
    {
      "cell_type": "markdown",
      "metadata": {
        "id": "view-in-github",
        "colab_type": "text"
      },
      "source": [
        "<a href=\"https://colab.research.google.com/github/MorningStarTM/Transformers-in-Vision/blob/main/ViT_for_classification.ipynb\" target=\"_parent\"><img src=\"https://colab.research.google.com/assets/colab-badge.svg\" alt=\"Open In Colab\"/></a>"
      ]
    },
    {
      "cell_type": "code",
      "source": [
        "!pip install patchify"
      ],
      "metadata": {
        "colab": {
          "base_uri": "https://localhost:8080/"
        },
        "id": "Ggrye1TeC5Nx",
        "outputId": "21e4b4a0-38c6-4de2-a012-e76e1067ae5e"
      },
      "execution_count": 2,
      "outputs": [
        {
          "output_type": "stream",
          "name": "stdout",
          "text": [
            "Looking in indexes: https://pypi.org/simple, https://us-python.pkg.dev/colab-wheels/public/simple/\n",
            "Collecting patchify\n",
            "  Downloading patchify-0.2.3-py3-none-any.whl (6.6 kB)\n",
            "Requirement already satisfied: numpy<2,>=1 in /usr/local/lib/python3.8/dist-packages (from patchify) (1.21.6)\n",
            "Installing collected packages: patchify\n",
            "Successfully installed patchify-0.2.3\n"
          ]
        }
      ]
    },
    {
      "cell_type": "code",
      "execution_count": 3,
      "metadata": {
        "id": "7YtNmAUNkDmN"
      },
      "outputs": [],
      "source": [
        "import os\n",
        "import numpy as np\n",
        "import matplotlib.pyplot as plt\n",
        "import cv2\n",
        "import random\n",
        "from glob import glob\n",
        "import tensorflow as tf\n",
        "from sklearn.utils import shuffle\n",
        "from patchify import patchify\n",
        "from tensorflow.keras.layers import *\n",
        "from tensorflow.keras.models import Model\n",
        "from tensorflow.keras.callbacks import Callback\n",
        "from sklearn.model_selection import train_test_split\n",
        "from sklearn import metrics"
      ]
    },
    {
      "cell_type": "code",
      "source": [
        "#Hyperparameter\n",
        "hp = {}\n",
        "hp['image_size'] = 200\n",
        "hp['num_channel'] = 3\n",
        "hp['patch_size'] = 25\n",
        "hp['num_patches'] = (hp['image_size']**2) // (hp['patch_size']**2)\n",
        "hp['flat_patches_shape'] = (hp['num_patches'], hp['patch_size']*hp['patch_size']*hp['num_channel'])\n",
        "\n",
        "hp['batch_size'] = 32\n",
        "hp['lr'] = 1e-4\n",
        "hp['num_epochs'] = 500\n",
        "hp['num_classes'] = 9\n",
        "hp['class_names'] = [\"Ant\", \"Butterfly\", \"Cockroach\", \"Frog\", \"Grasshopper\", \"Honey bee\", \"Spider\", \"dragonfly\", \"lizard\"]"
      ],
      "metadata": {
        "id": "IIwt-ayzjr-Y"
      },
      "execution_count": 4,
      "outputs": []
    },
    {
      "cell_type": "code",
      "source": [
        "#!unzip \"/content/drive/MyDrive/archive podiwije.zip\" -d \"/content/drive/MyDrive/DataSet/Insects/\""
      ],
      "metadata": {
        "id": "AEAqzic4lV_7"
      },
      "execution_count": null,
      "outputs": []
    },
    {
      "cell_type": "code",
      "source": [
        "dataset_path = \"/content/drive/MyDrive/DataSet/Insects/Reptiles-Insects\""
      ],
      "metadata": {
        "id": "VI6YB9_PV1iy"
      },
      "execution_count": 5,
      "outputs": []
    },
    {
      "cell_type": "code",
      "source": [
        "def create_dir(path):\n",
        "  if not os.path.exists(path):\n",
        "    os.makedirs(path)"
      ],
      "metadata": {
        "id": "kQoCu05Sngs3"
      },
      "execution_count": 6,
      "outputs": []
    },
    {
      "cell_type": "code",
      "source": [
        "#function for load the data file\n",
        "def load_data(path, split=0.1):\n",
        "  images = shuffle(glob(os.path.join(path, \"*\", \"*.jpg\")))\n",
        "  \n",
        "  split_size = int(len(images) * split)\n",
        "  #split the data \n",
        "  train_x, valid_x = train_test_split(images, test_size=split_size, random_state=42)\n",
        "  train_x, test_x = train_test_split(train_x, test_size=split_size, random_state=42)\n",
        "\n",
        "  return train_x, valid_x, test_x"
      ],
      "metadata": {
        "id": "wb7uK2h2mowR"
      },
      "execution_count": 7,
      "outputs": []
    },
    {
      "cell_type": "code",
      "source": [
        "def process_image_label(path):\n",
        "  path = path.decode()\n",
        "  #read image\n",
        "  image = cv2.imread(path, cv2.IMREAD_COLOR)\n",
        "  #resize the image\n",
        "  image = cv2.resize(image, (hp['image_size'], hp['image_size']))\n",
        "  #scale the image\n",
        "  image = image/255.0\n",
        "  print(image.shape)\n",
        "\n",
        "  #image into patch\n",
        "  patch_shape = (hp['patch_size'], hp['patch_size'], hp['num_channel'])\n",
        "  patches = patchify(image, patch_shape, hp['patch_size'])\n",
        "\n",
        "  patches = np.reshape(patches, hp['flat_patches_shape'])\n",
        "  patches = patches.astype(np.float32)\n",
        "  print(path)\n",
        "\n",
        "  #labeling\n",
        "  class_name = path.split('/')[-2]\n",
        "  class_idx = hp['class_names'].index(class_name)\n",
        "  class_idx = np.array(class_idx, dtype=np.int32)\n",
        "  print(class_idx)\n",
        "\n",
        "  return patches, class_idx"
      ],
      "metadata": {
        "id": "uhj0VIWomvsf"
      },
      "execution_count": 8,
      "outputs": []
    },
    {
      "cell_type": "code",
      "source": [
        "#we used opencv to read images not tensorflow. so we need to use tf.numpy_function to use these function in tensorflow\n",
        "def parse(path):\n",
        "  patches, labels = tf.numpy_function(process_image_label, [path], [tf.float32, tf.int32])\n",
        "  labels = tf.one_hot(labels, hp['num_classes'])\n",
        "\n",
        "  patches.set_shape(hp['flat_patches_shape'])\n",
        "  labels.set_shape(hp['num_classes'])\n",
        "\n",
        "  return patches, labels"
      ],
      "metadata": {
        "id": "5XmF8f5Ys6CW"
      },
      "execution_count": 9,
      "outputs": []
    },
    {
      "cell_type": "code",
      "source": [
        "def tf_dataset(images, batch=32):\n",
        "  dataset = tf.data.Dataset.from_tensor_slices((images))\n",
        "  dataset = dataset.map(parse).batch(batch).prefetch(8)\n",
        "  return dataset"
      ],
      "metadata": {
        "id": "9L78Lr-h5UId"
      },
      "execution_count": 10,
      "outputs": []
    },
    {
      "cell_type": "code",
      "source": [
        "train_x, valid_x, test_x = load_data(dataset_path)"
      ],
      "metadata": {
        "id": "wuaUgiODmgXA"
      },
      "execution_count": 11,
      "outputs": []
    },
    {
      "cell_type": "code",
      "source": [
        "print(f\"Train: {len(train_x)} Valid: {len(valid_x)} Test: {len(test_x)}\")"
      ],
      "metadata": {
        "colab": {
          "base_uri": "https://localhost:8080/"
        },
        "id": "lVWcWGUkv-1O",
        "outputId": "3f807449-a016-46d4-fd60-101b8de331fe"
      },
      "execution_count": 12,
      "outputs": [
        {
          "output_type": "stream",
          "name": "stdout",
          "text": [
            "Train: 680 Valid: 85 Test: 85\n"
          ]
        }
      ]
    },
    {
      "cell_type": "code",
      "source": [
        "train_dataset = tf_dataset(train_x, batch=hp['batch_size'])\n",
        "valid_dataset = tf_dataset(valid_x, batch=hp['batch_size'])"
      ],
      "metadata": {
        "id": "FtMATx_X0cy-"
      },
      "execution_count": 13,
      "outputs": []
    },
    {
      "cell_type": "markdown",
      "source": [
        "#Model"
      ],
      "metadata": {
        "id": "JomcQiMIC6GV"
      }
    },
    {
      "cell_type": "markdown",
      "source": [
        "##Transformer Encoder"
      ],
      "metadata": {
        "id": "SUEq89tAaQFF"
      }
    },
    {
      "cell_type": "code",
      "source": [
        "def mlp(inputs, config):\n",
        "  inputs = Dense(config[\"mlp_dim\"], activation='gelu')(inputs)\n",
        "  inputs = Dropout(config[\"dropout_rate\"])(inputs)\n",
        "  inputs = Dense(config[\"hidden_dim\"])(inputs)\n",
        "  inputs = Dropout(config[\"dropout_rate\"])(inputs)\n",
        "  return inputs  "
      ],
      "metadata": {
        "id": "WV9zZJvUaYlO"
      },
      "execution_count": 31,
      "outputs": []
    },
    {
      "cell_type": "code",
      "source": [
        "def transformer_encoder(inputs, config):\n",
        "  skip_1 = inputs\n",
        "  inputs = LayerNormalization()(inputs)\n",
        "  inputs = MultiHeadAttention(\n",
        "      num_heads=config[\"num_heads\"],\n",
        "      key_dim=config[\"hidden_dim\"]\n",
        "  )(inputs, inputs)\n",
        "  inputs = Add()([inputs, skip_1])\n",
        "\n",
        "  skip_2 = inputs\n",
        "  inputs = LayerNormalization()(inputs)\n",
        "  inputs = mlp(inputs, config)\n",
        "  inputs = Add()([inputs, skip_2])\n",
        "\n",
        "  return inputs"
      ],
      "metadata": {
        "id": "xbeIXZawaVA9"
      },
      "execution_count": 32,
      "outputs": []
    },
    {
      "cell_type": "markdown",
      "source": [
        "##Embedding"
      ],
      "metadata": {
        "id": "RbP_GeFyNdFk"
      }
    },
    {
      "cell_type": "code",
      "source": [
        "#Configuratin parameters\n",
        "config = {}\n",
        "config['num_layers'] = 12\n",
        "config['hidden_dim'] = 768\n",
        "config['mlp_dim'] = 3072\n",
        "config['num_heads'] = 12\n",
        "config['dropout_rate'] = 0.1\n",
        "config['num_patches'] = 256\n",
        "config['patch_size'] = 32\n",
        "config['num_channels'] = 3\n",
        "config[\"num_classes\"] = 9"
      ],
      "metadata": {
        "id": "fGL9R5Vt7OAa"
      },
      "execution_count": 37,
      "outputs": []
    },
    {
      "cell_type": "code",
      "source": [
        "class ClassToken(Layer):\n",
        "  def __init__(self):\n",
        "    super().__init__()\n",
        "\n",
        "  def build(self, input_shape):\n",
        "    w_init = tf.random_normal_initializer()\n",
        "    self.w = tf.Variable(\n",
        "        initial_value = w_init(shape=(1, 1, input_shape[-1]), dtype=tf.float32), \n",
        "        trainable = True\n",
        "    )\n",
        "\n",
        "  def call(self, inputs):\n",
        "    batch_size = tf.shape(inputs)[0]\n",
        "    hidden_dim = self.w.shape[-1]\n",
        "\n",
        "    #reshape\n",
        "    cls = tf.broadcast_to(self.w, [batch_size, 1, hidden_dim])\n",
        "    #change data type\n",
        "    cls = tf.cast(cls, dtype=inputs.dtype)\n",
        "    return cls"
      ],
      "metadata": {
        "id": "JjmdlkcGMtg8"
      },
      "execution_count": 33,
      "outputs": []
    },
    {
      "cell_type": "code",
      "source": [
        "def ViT(config):\n",
        "  #input layer\n",
        "  input_shape = (config['num_patches'], config['patch_size']*config['patch_size']*config['num_channels'])\n",
        "  inputs = Input(input_shape)\n",
        "  \n",
        "  #patch and position embedding\n",
        "  patch_embedding = Dense(config['hidden_dim'])(inputs)\n",
        "  \n",
        "  positions = tf.range(start=0, limit=config['num_patches'], delta=1)\n",
        "  position_embedding = Embedding(input_dim=config['num_patches'], output_dim=config['hidden_dim'])(positions)\n",
        "  embed = patch_embedding + position_embedding\n",
        "  \n",
        "  #Adding class token\n",
        "  token = ClassToken()(embed)\n",
        "  concate = Concatenate(axis=1)([token, embed])\n",
        "  for _ in range(config[\"num_layers\"]):\n",
        "    concate = transformer_encoder(concate, config)\n",
        "  \n",
        "  #Classification Head\n",
        "  mlp_head_input = LayerNormalization()(concate)\n",
        "  mlp_head_input = mlp_head_input[:, 0, :]\n",
        "  mlp_head_input = Dense(config[\"num_classes\"], activation=\"softmax\")(mlp_head_input)\n",
        "\n",
        "  model = Model(inputs, mlp_head_input)\n",
        "  return model"
      ],
      "metadata": {
        "id": "NoEtYhQIEtsh"
      },
      "execution_count": 39,
      "outputs": []
    },
    {
      "cell_type": "code",
      "source": [
        "model = ViT(config)\n",
        "model.summary()"
      ],
      "metadata": {
        "colab": {
          "base_uri": "https://localhost:8080/"
        },
        "id": "fdZBmBtcGjXz",
        "outputId": "d4536d96-81e7-4c3b-8b7d-ed5cca8fec86"
      },
      "execution_count": 40,
      "outputs": [
        {
          "output_type": "stream",
          "name": "stdout",
          "text": [
            "Model: \"model\"\n",
            "__________________________________________________________________________________________________\n",
            " Layer (type)                   Output Shape         Param #     Connected to                     \n",
            "==================================================================================================\n",
            " input_8 (InputLayer)           [(None, 256, 3072)]  0           []                               \n",
            "                                                                                                  \n",
            " dense_56 (Dense)               (None, 256, 768)     2360064     ['input_8[0][0]']                \n",
            "                                                                                                  \n",
            " tf.__operators__.add_7 (TFOpLa  (None, 256, 768)    0           ['dense_56[0][0]']               \n",
            " mbda)                                                                                            \n",
            "                                                                                                  \n",
            " class_token_6 (ClassToken)     (None, 1, 768)       768         ['tf.__operators__.add_7[0][0]'] \n",
            "                                                                                                  \n",
            " concatenate_6 (Concatenate)    (None, 257, 768)     0           ['class_token_6[0][0]',          \n",
            "                                                                  'tf.__operators__.add_7[0][0]'] \n",
            "                                                                                                  \n",
            " layer_normalization_49 (LayerN  (None, 257, 768)    1536        ['concatenate_6[0][0]']          \n",
            " ormalization)                                                                                    \n",
            "                                                                                                  \n",
            " multi_head_attention_24 (Multi  (None, 257, 768)    28339968    ['layer_normalization_49[0][0]', \n",
            " HeadAttention)                                                   'layer_normalization_49[0][0]'] \n",
            "                                                                                                  \n",
            " add_48 (Add)                   (None, 257, 768)     0           ['multi_head_attention_24[0][0]',\n",
            "                                                                  'concatenate_6[0][0]']          \n",
            "                                                                                                  \n",
            " layer_normalization_50 (LayerN  (None, 257, 768)    1536        ['add_48[0][0]']                 \n",
            " ormalization)                                                                                    \n",
            "                                                                                                  \n",
            " dense_57 (Dense)               (None, 257, 3072)    2362368     ['layer_normalization_50[0][0]'] \n",
            "                                                                                                  \n",
            " dropout_48 (Dropout)           (None, 257, 3072)    0           ['dense_57[0][0]']               \n",
            "                                                                                                  \n",
            " dense_58 (Dense)               (None, 257, 768)     2360064     ['dropout_48[0][0]']             \n",
            "                                                                                                  \n",
            " dropout_49 (Dropout)           (None, 257, 768)     0           ['dense_58[0][0]']               \n",
            "                                                                                                  \n",
            " add_49 (Add)                   (None, 257, 768)     0           ['dropout_49[0][0]',             \n",
            "                                                                  'add_48[0][0]']                 \n",
            "                                                                                                  \n",
            " layer_normalization_51 (LayerN  (None, 257, 768)    1536        ['add_49[0][0]']                 \n",
            " ormalization)                                                                                    \n",
            "                                                                                                  \n",
            " multi_head_attention_25 (Multi  (None, 257, 768)    28339968    ['layer_normalization_51[0][0]', \n",
            " HeadAttention)                                                   'layer_normalization_51[0][0]'] \n",
            "                                                                                                  \n",
            " add_50 (Add)                   (None, 257, 768)     0           ['multi_head_attention_25[0][0]',\n",
            "                                                                  'add_49[0][0]']                 \n",
            "                                                                                                  \n",
            " layer_normalization_52 (LayerN  (None, 257, 768)    1536        ['add_50[0][0]']                 \n",
            " ormalization)                                                                                    \n",
            "                                                                                                  \n",
            " dense_59 (Dense)               (None, 257, 3072)    2362368     ['layer_normalization_52[0][0]'] \n",
            "                                                                                                  \n",
            " dropout_50 (Dropout)           (None, 257, 3072)    0           ['dense_59[0][0]']               \n",
            "                                                                                                  \n",
            " dense_60 (Dense)               (None, 257, 768)     2360064     ['dropout_50[0][0]']             \n",
            "                                                                                                  \n",
            " dropout_51 (Dropout)           (None, 257, 768)     0           ['dense_60[0][0]']               \n",
            "                                                                                                  \n",
            " add_51 (Add)                   (None, 257, 768)     0           ['dropout_51[0][0]',             \n",
            "                                                                  'add_50[0][0]']                 \n",
            "                                                                                                  \n",
            " layer_normalization_53 (LayerN  (None, 257, 768)    1536        ['add_51[0][0]']                 \n",
            " ormalization)                                                                                    \n",
            "                                                                                                  \n",
            " multi_head_attention_26 (Multi  (None, 257, 768)    28339968    ['layer_normalization_53[0][0]', \n",
            " HeadAttention)                                                   'layer_normalization_53[0][0]'] \n",
            "                                                                                                  \n",
            " add_52 (Add)                   (None, 257, 768)     0           ['multi_head_attention_26[0][0]',\n",
            "                                                                  'add_51[0][0]']                 \n",
            "                                                                                                  \n",
            " layer_normalization_54 (LayerN  (None, 257, 768)    1536        ['add_52[0][0]']                 \n",
            " ormalization)                                                                                    \n",
            "                                                                                                  \n",
            " dense_61 (Dense)               (None, 257, 3072)    2362368     ['layer_normalization_54[0][0]'] \n",
            "                                                                                                  \n",
            " dropout_52 (Dropout)           (None, 257, 3072)    0           ['dense_61[0][0]']               \n",
            "                                                                                                  \n",
            " dense_62 (Dense)               (None, 257, 768)     2360064     ['dropout_52[0][0]']             \n",
            "                                                                                                  \n",
            " dropout_53 (Dropout)           (None, 257, 768)     0           ['dense_62[0][0]']               \n",
            "                                                                                                  \n",
            " add_53 (Add)                   (None, 257, 768)     0           ['dropout_53[0][0]',             \n",
            "                                                                  'add_52[0][0]']                 \n",
            "                                                                                                  \n",
            " layer_normalization_55 (LayerN  (None, 257, 768)    1536        ['add_53[0][0]']                 \n",
            " ormalization)                                                                                    \n",
            "                                                                                                  \n",
            " multi_head_attention_27 (Multi  (None, 257, 768)    28339968    ['layer_normalization_55[0][0]', \n",
            " HeadAttention)                                                   'layer_normalization_55[0][0]'] \n",
            "                                                                                                  \n",
            " add_54 (Add)                   (None, 257, 768)     0           ['multi_head_attention_27[0][0]',\n",
            "                                                                  'add_53[0][0]']                 \n",
            "                                                                                                  \n",
            " layer_normalization_56 (LayerN  (None, 257, 768)    1536        ['add_54[0][0]']                 \n",
            " ormalization)                                                                                    \n",
            "                                                                                                  \n",
            " dense_63 (Dense)               (None, 257, 3072)    2362368     ['layer_normalization_56[0][0]'] \n",
            "                                                                                                  \n",
            " dropout_54 (Dropout)           (None, 257, 3072)    0           ['dense_63[0][0]']               \n",
            "                                                                                                  \n",
            " dense_64 (Dense)               (None, 257, 768)     2360064     ['dropout_54[0][0]']             \n",
            "                                                                                                  \n",
            " dropout_55 (Dropout)           (None, 257, 768)     0           ['dense_64[0][0]']               \n",
            "                                                                                                  \n",
            " add_55 (Add)                   (None, 257, 768)     0           ['dropout_55[0][0]',             \n",
            "                                                                  'add_54[0][0]']                 \n",
            "                                                                                                  \n",
            " layer_normalization_57 (LayerN  (None, 257, 768)    1536        ['add_55[0][0]']                 \n",
            " ormalization)                                                                                    \n",
            "                                                                                                  \n",
            " multi_head_attention_28 (Multi  (None, 257, 768)    28339968    ['layer_normalization_57[0][0]', \n",
            " HeadAttention)                                                   'layer_normalization_57[0][0]'] \n",
            "                                                                                                  \n",
            " add_56 (Add)                   (None, 257, 768)     0           ['multi_head_attention_28[0][0]',\n",
            "                                                                  'add_55[0][0]']                 \n",
            "                                                                                                  \n",
            " layer_normalization_58 (LayerN  (None, 257, 768)    1536        ['add_56[0][0]']                 \n",
            " ormalization)                                                                                    \n",
            "                                                                                                  \n",
            " dense_65 (Dense)               (None, 257, 3072)    2362368     ['layer_normalization_58[0][0]'] \n",
            "                                                                                                  \n",
            " dropout_56 (Dropout)           (None, 257, 3072)    0           ['dense_65[0][0]']               \n",
            "                                                                                                  \n",
            " dense_66 (Dense)               (None, 257, 768)     2360064     ['dropout_56[0][0]']             \n",
            "                                                                                                  \n",
            " dropout_57 (Dropout)           (None, 257, 768)     0           ['dense_66[0][0]']               \n",
            "                                                                                                  \n",
            " add_57 (Add)                   (None, 257, 768)     0           ['dropout_57[0][0]',             \n",
            "                                                                  'add_56[0][0]']                 \n",
            "                                                                                                  \n",
            " layer_normalization_59 (LayerN  (None, 257, 768)    1536        ['add_57[0][0]']                 \n",
            " ormalization)                                                                                    \n",
            "                                                                                                  \n",
            " multi_head_attention_29 (Multi  (None, 257, 768)    28339968    ['layer_normalization_59[0][0]', \n",
            " HeadAttention)                                                   'layer_normalization_59[0][0]'] \n",
            "                                                                                                  \n",
            " add_58 (Add)                   (None, 257, 768)     0           ['multi_head_attention_29[0][0]',\n",
            "                                                                  'add_57[0][0]']                 \n",
            "                                                                                                  \n",
            " layer_normalization_60 (LayerN  (None, 257, 768)    1536        ['add_58[0][0]']                 \n",
            " ormalization)                                                                                    \n",
            "                                                                                                  \n",
            " dense_67 (Dense)               (None, 257, 3072)    2362368     ['layer_normalization_60[0][0]'] \n",
            "                                                                                                  \n",
            " dropout_58 (Dropout)           (None, 257, 3072)    0           ['dense_67[0][0]']               \n",
            "                                                                                                  \n",
            " dense_68 (Dense)               (None, 257, 768)     2360064     ['dropout_58[0][0]']             \n",
            "                                                                                                  \n",
            " dropout_59 (Dropout)           (None, 257, 768)     0           ['dense_68[0][0]']               \n",
            "                                                                                                  \n",
            " add_59 (Add)                   (None, 257, 768)     0           ['dropout_59[0][0]',             \n",
            "                                                                  'add_58[0][0]']                 \n",
            "                                                                                                  \n",
            " layer_normalization_61 (LayerN  (None, 257, 768)    1536        ['add_59[0][0]']                 \n",
            " ormalization)                                                                                    \n",
            "                                                                                                  \n",
            " multi_head_attention_30 (Multi  (None, 257, 768)    28339968    ['layer_normalization_61[0][0]', \n",
            " HeadAttention)                                                   'layer_normalization_61[0][0]'] \n",
            "                                                                                                  \n",
            " add_60 (Add)                   (None, 257, 768)     0           ['multi_head_attention_30[0][0]',\n",
            "                                                                  'add_59[0][0]']                 \n",
            "                                                                                                  \n",
            " layer_normalization_62 (LayerN  (None, 257, 768)    1536        ['add_60[0][0]']                 \n",
            " ormalization)                                                                                    \n",
            "                                                                                                  \n",
            " dense_69 (Dense)               (None, 257, 3072)    2362368     ['layer_normalization_62[0][0]'] \n",
            "                                                                                                  \n",
            " dropout_60 (Dropout)           (None, 257, 3072)    0           ['dense_69[0][0]']               \n",
            "                                                                                                  \n",
            " dense_70 (Dense)               (None, 257, 768)     2360064     ['dropout_60[0][0]']             \n",
            "                                                                                                  \n",
            " dropout_61 (Dropout)           (None, 257, 768)     0           ['dense_70[0][0]']               \n",
            "                                                                                                  \n",
            " add_61 (Add)                   (None, 257, 768)     0           ['dropout_61[0][0]',             \n",
            "                                                                  'add_60[0][0]']                 \n",
            "                                                                                                  \n",
            " layer_normalization_63 (LayerN  (None, 257, 768)    1536        ['add_61[0][0]']                 \n",
            " ormalization)                                                                                    \n",
            "                                                                                                  \n",
            " multi_head_attention_31 (Multi  (None, 257, 768)    28339968    ['layer_normalization_63[0][0]', \n",
            " HeadAttention)                                                   'layer_normalization_63[0][0]'] \n",
            "                                                                                                  \n",
            " add_62 (Add)                   (None, 257, 768)     0           ['multi_head_attention_31[0][0]',\n",
            "                                                                  'add_61[0][0]']                 \n",
            "                                                                                                  \n",
            " layer_normalization_64 (LayerN  (None, 257, 768)    1536        ['add_62[0][0]']                 \n",
            " ormalization)                                                                                    \n",
            "                                                                                                  \n",
            " dense_71 (Dense)               (None, 257, 3072)    2362368     ['layer_normalization_64[0][0]'] \n",
            "                                                                                                  \n",
            " dropout_62 (Dropout)           (None, 257, 3072)    0           ['dense_71[0][0]']               \n",
            "                                                                                                  \n",
            " dense_72 (Dense)               (None, 257, 768)     2360064     ['dropout_62[0][0]']             \n",
            "                                                                                                  \n",
            " dropout_63 (Dropout)           (None, 257, 768)     0           ['dense_72[0][0]']               \n",
            "                                                                                                  \n",
            " add_63 (Add)                   (None, 257, 768)     0           ['dropout_63[0][0]',             \n",
            "                                                                  'add_62[0][0]']                 \n",
            "                                                                                                  \n",
            " layer_normalization_65 (LayerN  (None, 257, 768)    1536        ['add_63[0][0]']                 \n",
            " ormalization)                                                                                    \n",
            "                                                                                                  \n",
            " multi_head_attention_32 (Multi  (None, 257, 768)    28339968    ['layer_normalization_65[0][0]', \n",
            " HeadAttention)                                                   'layer_normalization_65[0][0]'] \n",
            "                                                                                                  \n",
            " add_64 (Add)                   (None, 257, 768)     0           ['multi_head_attention_32[0][0]',\n",
            "                                                                  'add_63[0][0]']                 \n",
            "                                                                                                  \n",
            " layer_normalization_66 (LayerN  (None, 257, 768)    1536        ['add_64[0][0]']                 \n",
            " ormalization)                                                                                    \n",
            "                                                                                                  \n",
            " dense_73 (Dense)               (None, 257, 3072)    2362368     ['layer_normalization_66[0][0]'] \n",
            "                                                                                                  \n",
            " dropout_64 (Dropout)           (None, 257, 3072)    0           ['dense_73[0][0]']               \n",
            "                                                                                                  \n",
            " dense_74 (Dense)               (None, 257, 768)     2360064     ['dropout_64[0][0]']             \n",
            "                                                                                                  \n",
            " dropout_65 (Dropout)           (None, 257, 768)     0           ['dense_74[0][0]']               \n",
            "                                                                                                  \n",
            " add_65 (Add)                   (None, 257, 768)     0           ['dropout_65[0][0]',             \n",
            "                                                                  'add_64[0][0]']                 \n",
            "                                                                                                  \n",
            " layer_normalization_67 (LayerN  (None, 257, 768)    1536        ['add_65[0][0]']                 \n",
            " ormalization)                                                                                    \n",
            "                                                                                                  \n",
            " multi_head_attention_33 (Multi  (None, 257, 768)    28339968    ['layer_normalization_67[0][0]', \n",
            " HeadAttention)                                                   'layer_normalization_67[0][0]'] \n",
            "                                                                                                  \n",
            " add_66 (Add)                   (None, 257, 768)     0           ['multi_head_attention_33[0][0]',\n",
            "                                                                  'add_65[0][0]']                 \n",
            "                                                                                                  \n",
            " layer_normalization_68 (LayerN  (None, 257, 768)    1536        ['add_66[0][0]']                 \n",
            " ormalization)                                                                                    \n",
            "                                                                                                  \n",
            " dense_75 (Dense)               (None, 257, 3072)    2362368     ['layer_normalization_68[0][0]'] \n",
            "                                                                                                  \n",
            " dropout_66 (Dropout)           (None, 257, 3072)    0           ['dense_75[0][0]']               \n",
            "                                                                                                  \n",
            " dense_76 (Dense)               (None, 257, 768)     2360064     ['dropout_66[0][0]']             \n",
            "                                                                                                  \n",
            " dropout_67 (Dropout)           (None, 257, 768)     0           ['dense_76[0][0]']               \n",
            "                                                                                                  \n",
            " add_67 (Add)                   (None, 257, 768)     0           ['dropout_67[0][0]',             \n",
            "                                                                  'add_66[0][0]']                 \n",
            "                                                                                                  \n",
            " layer_normalization_69 (LayerN  (None, 257, 768)    1536        ['add_67[0][0]']                 \n",
            " ormalization)                                                                                    \n",
            "                                                                                                  \n",
            " multi_head_attention_34 (Multi  (None, 257, 768)    28339968    ['layer_normalization_69[0][0]', \n",
            " HeadAttention)                                                   'layer_normalization_69[0][0]'] \n",
            "                                                                                                  \n",
            " add_68 (Add)                   (None, 257, 768)     0           ['multi_head_attention_34[0][0]',\n",
            "                                                                  'add_67[0][0]']                 \n",
            "                                                                                                  \n",
            " layer_normalization_70 (LayerN  (None, 257, 768)    1536        ['add_68[0][0]']                 \n",
            " ormalization)                                                                                    \n",
            "                                                                                                  \n",
            " dense_77 (Dense)               (None, 257, 3072)    2362368     ['layer_normalization_70[0][0]'] \n",
            "                                                                                                  \n",
            " dropout_68 (Dropout)           (None, 257, 3072)    0           ['dense_77[0][0]']               \n",
            "                                                                                                  \n",
            " dense_78 (Dense)               (None, 257, 768)     2360064     ['dropout_68[0][0]']             \n",
            "                                                                                                  \n",
            " dropout_69 (Dropout)           (None, 257, 768)     0           ['dense_78[0][0]']               \n",
            "                                                                                                  \n",
            " add_69 (Add)                   (None, 257, 768)     0           ['dropout_69[0][0]',             \n",
            "                                                                  'add_68[0][0]']                 \n",
            "                                                                                                  \n",
            " layer_normalization_71 (LayerN  (None, 257, 768)    1536        ['add_69[0][0]']                 \n",
            " ormalization)                                                                                    \n",
            "                                                                                                  \n",
            " multi_head_attention_35 (Multi  (None, 257, 768)    28339968    ['layer_normalization_71[0][0]', \n",
            " HeadAttention)                                                   'layer_normalization_71[0][0]'] \n",
            "                                                                                                  \n",
            " add_70 (Add)                   (None, 257, 768)     0           ['multi_head_attention_35[0][0]',\n",
            "                                                                  'add_69[0][0]']                 \n",
            "                                                                                                  \n",
            " layer_normalization_72 (LayerN  (None, 257, 768)    1536        ['add_70[0][0]']                 \n",
            " ormalization)                                                                                    \n",
            "                                                                                                  \n",
            " dense_79 (Dense)               (None, 257, 3072)    2362368     ['layer_normalization_72[0][0]'] \n",
            "                                                                                                  \n",
            " dropout_70 (Dropout)           (None, 257, 3072)    0           ['dense_79[0][0]']               \n",
            "                                                                                                  \n",
            " dense_80 (Dense)               (None, 257, 768)     2360064     ['dropout_70[0][0]']             \n",
            "                                                                                                  \n",
            " dropout_71 (Dropout)           (None, 257, 768)     0           ['dense_80[0][0]']               \n",
            "                                                                                                  \n",
            " add_71 (Add)                   (None, 257, 768)     0           ['dropout_71[0][0]',             \n",
            "                                                                  'add_70[0][0]']                 \n",
            "                                                                                                  \n",
            " layer_normalization_73 (LayerN  (None, 257, 768)    1536        ['add_71[0][0]']                 \n",
            " ormalization)                                                                                    \n",
            "                                                                                                  \n",
            " tf.__operators__.getitem_1 (Sl  (None, 768)         0           ['layer_normalization_73[0][0]'] \n",
            " icingOpLambda)                                                                                   \n",
            "                                                                                                  \n",
            " dense_81 (Dense)               (None, 9)            6921        ['tf.__operators__.getitem_1[0][0\n",
            "                                                                 ]']                              \n",
            "                                                                                                  \n",
            "==================================================================================================\n",
            "Total params: 399,154,953\n",
            "Trainable params: 399,154,953\n",
            "Non-trainable params: 0\n",
            "__________________________________________________________________________________________________\n"
          ]
        }
      ]
    },
    {
      "cell_type": "code",
      "source": [],
      "metadata": {
        "id": "ZBeJD74fG0xN"
      },
      "execution_count": null,
      "outputs": []
    }
  ]
}