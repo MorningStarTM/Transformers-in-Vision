{
  "nbformat": 4,
  "nbformat_minor": 0,
  "metadata": {
    "colab": {
      "provenance": []
    },
    "kernelspec": {
      "name": "python3",
      "display_name": "Python 3"
    },
    "language_info": {
      "name": "python"
    }
  },
  "cells": [
    {
      "cell_type": "code",
      "execution_count": null,
      "metadata": {
        "id": "7YtNmAUNkDmN"
      },
      "outputs": [],
      "source": [
        "import os\n",
        "import numpy as np\n",
        "import matplotlib.pyplot as plt\n",
        "import cv2\n",
        "import random\n",
        "from glob import glob\n",
        "import tensorflow as tf\n",
        "from tensorflow.keras.layers import BatchNormalization, Dense, Flatten, Conv2D, Conv2DTranspose, Input\n",
        "from tensorflow.keras.callbacks import Callback\n",
        "from sklearn.model_selection import train_test_split\n",
        "from sklearn import metrics"
      ]
    },
    {
      "cell_type": "code",
      "source": [
        "!unzip \"/content/drive/MyDrive/archive podiwije.zip\" -d \"/content/drive/MyDrive/DataSet/Insects/\""
      ],
      "metadata": {
        "id": "AEAqzic4lV_7"
      },
      "execution_count": null,
      "outputs": []
    },
    {
      "cell_type": "code",
      "source": [
        "dataset_path = \"/content/drive/MyDrive/DataSet/Insects/Reptiles-Insects\""
      ],
      "metadata": {
        "id": "VI6YB9_PV1iy"
      },
      "execution_count": null,
      "outputs": []
    },
    {
      "cell_type": "code",
      "source": [
        "def create_dir(path):\n",
        "  if not os.path.exists(path):\n",
        "    os.makedirs(path)"
      ],
      "metadata": {
        "id": "kQoCu05Sngs3"
      },
      "execution_count": null,
      "outputs": []
    },
    {
      "cell_type": "code",
      "source": [
        "def load_data(path, split=0.1):\n",
        "  images = sorted(glob(os.path.join(path, \"*\", \"*.jpg\")))\n",
        "  \n",
        "  split_size = int(len(images) * split)\n",
        "  train_x, valid_x = train_test_split(images, test_size=split_size, random_state=42)\n",
        "  train_x, test_x = train_test_split(train_x, test_size=split_size, random_state=42)\n",
        "\n",
        "  return train_x, valid_x, test_x"
      ],
      "metadata": {
        "id": "wb7uK2h2mowR"
      },
      "execution_count": null,
      "outputs": []
    },
    {
      "cell_type": "code",
      "source": [
        "train_x, valid_x, test_x = load_data(dataset_path)"
      ],
      "metadata": {
        "id": "wuaUgiODmgXA"
      },
      "execution_count": null,
      "outputs": []
    },
    {
      "cell_type": "code",
      "source": [
        "print(f\"Train: {len(train_x)} Valid: {len(valid_x)} Test: {len(test_x)}\")"
      ],
      "metadata": {
        "colab": {
          "base_uri": "https://localhost:8080/"
        },
        "id": "lVWcWGUkv-1O",
        "outputId": "1c9d5595-578b-4271-c13d-9498c460fd87"
      },
      "execution_count": null,
      "outputs": [
        {
          "output_type": "stream",
          "name": "stdout",
          "text": [
            "Train: 680 Valid: 85 Test: 85\n"
          ]
        }
      ]
    },
    {
      "cell_type": "code",
      "source": [],
      "metadata": {
        "id": "FtMATx_X0cy-"
      },
      "execution_count": null,
      "outputs": []
    }
  ]
}