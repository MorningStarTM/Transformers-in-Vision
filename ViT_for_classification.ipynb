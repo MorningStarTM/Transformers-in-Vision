{
  "nbformat": 4,
  "nbformat_minor": 0,
  "metadata": {
    "colab": {
      "provenance": [],
      "mount_file_id": "1oVVIwQSVIXFTagDvpIdhCf0u2_rluVdX",
      "authorship_tag": "ABX9TyM1uOGrKGiFu7QXJoG97OKV",
      "include_colab_link": true
    },
    "kernelspec": {
      "name": "python3",
      "display_name": "Python 3"
    },
    "language_info": {
      "name": "python"
    },
    "accelerator": "GPU",
    "gpuClass": "standard"
  },
  "cells": [
    {
      "cell_type": "markdown",
      "metadata": {
        "id": "view-in-github",
        "colab_type": "text"
      },
      "source": [
        "<a href=\"https://colab.research.google.com/github/MorningStarTM/Transformers-in-Vision/blob/main/ViT_for_classification.ipynb\" target=\"_parent\"><img src=\"https://colab.research.google.com/assets/colab-badge.svg\" alt=\"Open In Colab\"/></a>"
      ]
    },
    {
      "cell_type": "code",
      "source": [
        "!pip install patchify"
      ],
      "metadata": {
        "colab": {
          "base_uri": "https://localhost:8080/"
        },
        "id": "Ggrye1TeC5Nx",
        "outputId": "1e9a5a0a-e7ea-4ff3-98d8-d97e9001c621"
      },
      "execution_count": 1,
      "outputs": [
        {
          "output_type": "stream",
          "name": "stdout",
          "text": [
            "Looking in indexes: https://pypi.org/simple, https://us-python.pkg.dev/colab-wheels/public/simple/\n",
            "Requirement already satisfied: patchify in /usr/local/lib/python3.8/dist-packages (0.2.3)\n",
            "Requirement already satisfied: numpy<2,>=1 in /usr/local/lib/python3.8/dist-packages (from patchify) (1.21.6)\n"
          ]
        }
      ]
    },
    {
      "cell_type": "code",
      "execution_count": 2,
      "metadata": {
        "id": "7YtNmAUNkDmN"
      },
      "outputs": [],
      "source": [
        "import os\n",
        "import numpy as np\n",
        "import matplotlib.pyplot as plt\n",
        "import cv2\n",
        "import random\n",
        "from glob import glob\n",
        "import tensorflow as tf\n",
        "from sklearn.utils import shuffle\n",
        "from patchify import patchify\n",
        "from tensorflow.keras.layers import *\n",
        "from tensorflow.keras.models import Model\n",
        "from tensorflow.keras.callbacks import *\n",
        "from sklearn.model_selection import train_test_split\n",
        "from sklearn import metrics"
      ]
    },
    {
      "cell_type": "code",
      "source": [
        "#Hyperparameter\n",
        "hp = {}\n",
        "hp['image_size'] = 200\n",
        "hp['num_channel'] = 3\n",
        "hp['patch_size'] = 25\n",
        "hp['num_patches'] = (hp['image_size']**2) // (hp['patch_size']**2)\n",
        "hp['flat_patches_shape'] = (hp['num_patches'], hp['patch_size']*hp['patch_size']*hp['num_channel'])\n",
        "\n",
        "hp['batch_size'] = 16\n",
        "hp['lr'] = 1e-4\n",
        "hp['num_epochs'] = 100 #500\n",
        "hp['num_classes'] = 9\n",
        "hp['class_names'] = [\"Ant\", \"Butterfly\", \"Cockroach\", \"Frog\", \"Grasshopper\", \"Honey bee\", \"Spider\", \"dragonfly\", \"lizard\"]\n",
        "\n",
        "hp[\"num_layers\"] = 12\n",
        "hp[\"hidden_dim\"] = 500 #768\n",
        "hp[\"mlp_dim\"] = 3072\n",
        "hp[\"num_heads\"] = 12\n",
        "hp[\"dropout_rate\"] = 0.1"
      ],
      "metadata": {
        "id": "IIwt-ayzjr-Y"
      },
      "execution_count": 3,
      "outputs": []
    },
    {
      "cell_type": "code",
      "source": [
        "#!unzip \"/content/drive/MyDrive/archive podiwije.zip\" -d \"/content/drive/MyDrive/DataSet/Insects/\""
      ],
      "metadata": {
        "id": "AEAqzic4lV_7"
      },
      "execution_count": 4,
      "outputs": []
    },
    {
      "cell_type": "code",
      "source": [
        "dataset_path = \"/content/drive/MyDrive/DataSet/Insects/Reptiles-Insects\""
      ],
      "metadata": {
        "id": "VI6YB9_PV1iy"
      },
      "execution_count": 5,
      "outputs": []
    },
    {
      "cell_type": "code",
      "source": [
        "def create_dir(path):\n",
        "  if not os.path.exists(path):\n",
        "    os.makedirs(path)"
      ],
      "metadata": {
        "id": "kQoCu05Sngs3"
      },
      "execution_count": 6,
      "outputs": []
    },
    {
      "cell_type": "code",
      "source": [
        "#function for load the data file\n",
        "def load_data(path, split=0.1):\n",
        "  images = shuffle(glob(os.path.join(path, \"*\", \"*.jpg\")))\n",
        "  \n",
        "  split_size = int(len(images) * split)\n",
        "  #split the data \n",
        "  train_x, valid_x = train_test_split(images, test_size=split_size, random_state=42)\n",
        "  train_x, test_x = train_test_split(train_x, test_size=split_size, random_state=42)\n",
        "\n",
        "  return train_x, valid_x, test_x"
      ],
      "metadata": {
        "id": "wb7uK2h2mowR"
      },
      "execution_count": 7,
      "outputs": []
    },
    {
      "cell_type": "code",
      "source": [
        "def process_image_label(path):\n",
        "  path = path.decode()\n",
        "  #read image\n",
        "  image = cv2.imread(path, cv2.IMREAD_COLOR)\n",
        "  #resize the image\n",
        "  image = cv2.resize(image, (hp['image_size'], hp['image_size']))\n",
        "  #scale the image\n",
        "  image = image/255.0\n",
        "  \n",
        "\n",
        "  #image into patch\n",
        "  patch_shape = (hp['patch_size'], hp['patch_size'], hp['num_channel'])\n",
        "  patches = patchify(image, patch_shape, hp['patch_size'])\n",
        "\n",
        "  patches = np.reshape(patches, hp['flat_patches_shape'])\n",
        "  patches = patches.astype(np.float32)\n",
        "  \n",
        "\n",
        "  #labeling\n",
        "  class_name = path.split('/')[-2]\n",
        "  class_idx = hp['class_names'].index(class_name)\n",
        "  class_idx = np.array(class_idx, dtype=np.int32)\n",
        "  \n",
        "\n",
        "  return patches, class_idx"
      ],
      "metadata": {
        "id": "uhj0VIWomvsf"
      },
      "execution_count": 8,
      "outputs": []
    },
    {
      "cell_type": "code",
      "source": [
        "#we used opencv to read images not tensorflow. so we need to use tf.numpy_function to use these function in tensorflow\n",
        "def parse(path):\n",
        "  patches, labels = tf.numpy_function(process_image_label, [path], [tf.float32, tf.int32])\n",
        "  labels = tf.one_hot(labels, hp['num_classes'])\n",
        "\n",
        "  patches.set_shape(hp['flat_patches_shape'])\n",
        "  labels.set_shape(hp['num_classes'])\n",
        "\n",
        "  return patches, labels"
      ],
      "metadata": {
        "id": "5XmF8f5Ys6CW"
      },
      "execution_count": 9,
      "outputs": []
    },
    {
      "cell_type": "code",
      "source": [
        "def tf_dataset(images, batch=32):\n",
        "  dataset = tf.data.Dataset.from_tensor_slices((images))\n",
        "  dataset = dataset.map(parse).batch(batch).prefetch(8)\n",
        "  return dataset"
      ],
      "metadata": {
        "id": "9L78Lr-h5UId"
      },
      "execution_count": 10,
      "outputs": []
    },
    {
      "cell_type": "code",
      "source": [
        "train_x, valid_x, test_x = load_data(dataset_path)"
      ],
      "metadata": {
        "id": "wuaUgiODmgXA"
      },
      "execution_count": 11,
      "outputs": []
    },
    {
      "cell_type": "code",
      "source": [
        "print(f\"Train: {len(train_x)} Valid: {len(valid_x)} Test: {len(test_x)}\")"
      ],
      "metadata": {
        "colab": {
          "base_uri": "https://localhost:8080/"
        },
        "id": "lVWcWGUkv-1O",
        "outputId": "a421ce5b-bf08-4adb-c530-fc41bb27cec9"
      },
      "execution_count": 12,
      "outputs": [
        {
          "output_type": "stream",
          "name": "stdout",
          "text": [
            "Train: 680 Valid: 85 Test: 85\n"
          ]
        }
      ]
    },
    {
      "cell_type": "code",
      "source": [
        "train_dataset = tf_dataset(train_x, batch=hp['batch_size'])\n",
        "valid_dataset = tf_dataset(valid_x, batch=hp['batch_size'])"
      ],
      "metadata": {
        "id": "FtMATx_X0cy-"
      },
      "execution_count": 13,
      "outputs": []
    },
    {
      "cell_type": "markdown",
      "source": [
        "#Model"
      ],
      "metadata": {
        "id": "JomcQiMIC6GV"
      }
    },
    {
      "cell_type": "markdown",
      "source": [
        "##Transformer Encoder"
      ],
      "metadata": {
        "id": "SUEq89tAaQFF"
      }
    },
    {
      "cell_type": "code",
      "source": [
        "#Configuratin parameters\n",
        "config = {}\n",
        "config['num_layers'] = 12\n",
        "config['hidden_dim'] = 768\n",
        "config['mlp_dim'] = 3072\n",
        "config['num_heads'] = 12\n",
        "config['dropout_rate'] = 0.1\n",
        "config['num_patches'] = 256\n",
        "config['patch_size'] = 32\n",
        "config['num_channels'] = 3\n",
        "config[\"num_classes\"] = 9"
      ],
      "metadata": {
        "id": "DEhjThq4OJ9G"
      },
      "execution_count": 14,
      "outputs": []
    },
    {
      "cell_type": "code",
      "source": [
        "def mlp(inputs, config):\n",
        "  inputs = Dense(config[\"mlp_dim\"], activation='gelu')(inputs)\n",
        "  inputs = Dropout(config[\"dropout_rate\"])(inputs)\n",
        "  inputs = Dense(config[\"hidden_dim\"])(inputs)\n",
        "  inputs = Dropout(config[\"dropout_rate\"])(inputs)\n",
        "  return inputs  "
      ],
      "metadata": {
        "id": "WV9zZJvUaYlO"
      },
      "execution_count": 15,
      "outputs": []
    },
    {
      "cell_type": "code",
      "source": [
        "def transformer_encoder(inputs, config):\n",
        "  skip_1 = inputs\n",
        "  inputs = LayerNormalization()(inputs)\n",
        "  inputs = MultiHeadAttention(\n",
        "      num_heads=config[\"num_heads\"],\n",
        "      key_dim=config[\"hidden_dim\"]\n",
        "  )(inputs, inputs)\n",
        "  inputs = Add()([inputs, skip_1])\n",
        "\n",
        "  skip_2 = inputs\n",
        "  inputs = LayerNormalization()(inputs)\n",
        "  inputs = mlp(inputs, config)\n",
        "  inputs = Add()([inputs, skip_2])\n",
        "\n",
        "  return inputs"
      ],
      "metadata": {
        "id": "xbeIXZawaVA9"
      },
      "execution_count": 16,
      "outputs": []
    },
    {
      "cell_type": "markdown",
      "source": [
        "##Embedding"
      ],
      "metadata": {
        "id": "RbP_GeFyNdFk"
      }
    },
    {
      "cell_type": "code",
      "source": [
        "class ClassToken(Layer):\n",
        "  def __init__(self):\n",
        "    super().__init__()\n",
        "\n",
        "  def build(self, input_shape):\n",
        "    w_init = tf.random_normal_initializer()\n",
        "    self.w = tf.Variable(\n",
        "        initial_value = w_init(shape=(1, 1, input_shape[-1]), dtype=tf.float32), \n",
        "        trainable = True\n",
        "    )\n",
        "\n",
        "  def call(self, inputs):\n",
        "    batch_size = tf.shape(inputs)[0]\n",
        "    hidden_dim = self.w.shape[-1]\n",
        "\n",
        "    #reshape\n",
        "    cls = tf.broadcast_to(self.w, [batch_size, 1, hidden_dim])\n",
        "    #change data type\n",
        "    cls = tf.cast(cls, dtype=inputs.dtype)\n",
        "    return cls"
      ],
      "metadata": {
        "id": "JjmdlkcGMtg8"
      },
      "execution_count": 17,
      "outputs": []
    },
    {
      "cell_type": "code",
      "source": [
        "def ViT(config):\n",
        "  #input layer\n",
        "  input_shape = (hp['num_patches'], hp['patch_size']*hp['patch_size']*hp['num_channel'])\n",
        "  inputs = Input(input_shape)\n",
        "  \n",
        "  #patch and position embedding\n",
        "  patch_embedding = Dense(config['hidden_dim'])(inputs)\n",
        "  \n",
        "  positions = tf.range(start=0, limit=hp['num_patches'], delta=1)\n",
        "  position_embedding = Embedding(input_dim=hp['num_patches'], output_dim=config['hidden_dim'])(positions)\n",
        "  embed = patch_embedding + position_embedding\n",
        "  \n",
        "  #Adding class token\n",
        "  token = ClassToken()(embed)\n",
        "  concate = Concatenate(axis=1)([token, embed])\n",
        "  for _ in range(config[\"num_layers\"]):\n",
        "    concate = transformer_encoder(concate, config)\n",
        "  \n",
        "  #Classification Head\n",
        "  mlp_head_input = LayerNormalization()(concate)\n",
        "  mlp_head_input = mlp_head_input[:, 0, :]\n",
        "  mlp_head_input = Dense(config[\"num_classes\"], activation=\"softmax\")(mlp_head_input)\n",
        "\n",
        "  model = Model(inputs, mlp_head_input)\n",
        "  return model"
      ],
      "metadata": {
        "id": "NoEtYhQIEtsh"
      },
      "execution_count": 18,
      "outputs": []
    },
    {
      "cell_type": "code",
      "source": [
        "model_path = \"/content/drive/MyDrive/CNN_Models/ViT_for_insect_classification.h5\"\n",
        "csv_path = \"/content/drive/MyDrive/Model CSV/ViT_for_insect_classification.csv\""
      ],
      "metadata": {
        "id": "xW2o2lZ2fk9J"
      },
      "execution_count": 19,
      "outputs": []
    },
    {
      "cell_type": "code",
      "source": [
        "model = ViT(hp)\n",
        "model.summary()"
      ],
      "metadata": {
        "colab": {
          "base_uri": "https://localhost:8080/"
        },
        "id": "fdZBmBtcGjXz",
        "outputId": "7bd656b6-c8f4-4e90-e0c1-16126818939f"
      },
      "execution_count": 20,
      "outputs": [
        {
          "output_type": "stream",
          "name": "stdout",
          "text": [
            "Model: \"model\"\n",
            "__________________________________________________________________________________________________\n",
            " Layer (type)                   Output Shape         Param #     Connected to                     \n",
            "==================================================================================================\n",
            " input_1 (InputLayer)           [(None, 64, 1875)]   0           []                               \n",
            "                                                                                                  \n",
            " dense (Dense)                  (None, 64, 500)      938000      ['input_1[0][0]']                \n",
            "                                                                                                  \n",
            " tf.__operators__.add (TFOpLamb  (None, 64, 500)     0           ['dense[0][0]']                  \n",
            " da)                                                                                              \n",
            "                                                                                                  \n",
            " class_token (ClassToken)       (None, 1, 500)       500         ['tf.__operators__.add[0][0]']   \n",
            "                                                                                                  \n",
            " concatenate (Concatenate)      (None, 65, 500)      0           ['class_token[0][0]',            \n",
            "                                                                  'tf.__operators__.add[0][0]']   \n",
            "                                                                                                  \n",
            " layer_normalization (LayerNorm  (None, 65, 500)     1000        ['concatenate[0][0]']            \n",
            " alization)                                                                                       \n",
            "                                                                                                  \n",
            " multi_head_attention (MultiHea  (None, 65, 500)     12018500    ['layer_normalization[0][0]',    \n",
            " dAttention)                                                      'layer_normalization[0][0]']    \n",
            "                                                                                                  \n",
            " add (Add)                      (None, 65, 500)      0           ['multi_head_attention[0][0]',   \n",
            "                                                                  'concatenate[0][0]']            \n",
            "                                                                                                  \n",
            " layer_normalization_1 (LayerNo  (None, 65, 500)     1000        ['add[0][0]']                    \n",
            " rmalization)                                                                                     \n",
            "                                                                                                  \n",
            " dense_1 (Dense)                (None, 65, 3072)     1539072     ['layer_normalization_1[0][0]']  \n",
            "                                                                                                  \n",
            " dropout (Dropout)              (None, 65, 3072)     0           ['dense_1[0][0]']                \n",
            "                                                                                                  \n",
            " dense_2 (Dense)                (None, 65, 500)      1536500     ['dropout[0][0]']                \n",
            "                                                                                                  \n",
            " dropout_1 (Dropout)            (None, 65, 500)      0           ['dense_2[0][0]']                \n",
            "                                                                                                  \n",
            " add_1 (Add)                    (None, 65, 500)      0           ['dropout_1[0][0]',              \n",
            "                                                                  'add[0][0]']                    \n",
            "                                                                                                  \n",
            " layer_normalization_2 (LayerNo  (None, 65, 500)     1000        ['add_1[0][0]']                  \n",
            " rmalization)                                                                                     \n",
            "                                                                                                  \n",
            " multi_head_attention_1 (MultiH  (None, 65, 500)     12018500    ['layer_normalization_2[0][0]',  \n",
            " eadAttention)                                                    'layer_normalization_2[0][0]']  \n",
            "                                                                                                  \n",
            " add_2 (Add)                    (None, 65, 500)      0           ['multi_head_attention_1[0][0]', \n",
            "                                                                  'add_1[0][0]']                  \n",
            "                                                                                                  \n",
            " layer_normalization_3 (LayerNo  (None, 65, 500)     1000        ['add_2[0][0]']                  \n",
            " rmalization)                                                                                     \n",
            "                                                                                                  \n",
            " dense_3 (Dense)                (None, 65, 3072)     1539072     ['layer_normalization_3[0][0]']  \n",
            "                                                                                                  \n",
            " dropout_2 (Dropout)            (None, 65, 3072)     0           ['dense_3[0][0]']                \n",
            "                                                                                                  \n",
            " dense_4 (Dense)                (None, 65, 500)      1536500     ['dropout_2[0][0]']              \n",
            "                                                                                                  \n",
            " dropout_3 (Dropout)            (None, 65, 500)      0           ['dense_4[0][0]']                \n",
            "                                                                                                  \n",
            " add_3 (Add)                    (None, 65, 500)      0           ['dropout_3[0][0]',              \n",
            "                                                                  'add_2[0][0]']                  \n",
            "                                                                                                  \n",
            " layer_normalization_4 (LayerNo  (None, 65, 500)     1000        ['add_3[0][0]']                  \n",
            " rmalization)                                                                                     \n",
            "                                                                                                  \n",
            " multi_head_attention_2 (MultiH  (None, 65, 500)     12018500    ['layer_normalization_4[0][0]',  \n",
            " eadAttention)                                                    'layer_normalization_4[0][0]']  \n",
            "                                                                                                  \n",
            " add_4 (Add)                    (None, 65, 500)      0           ['multi_head_attention_2[0][0]', \n",
            "                                                                  'add_3[0][0]']                  \n",
            "                                                                                                  \n",
            " layer_normalization_5 (LayerNo  (None, 65, 500)     1000        ['add_4[0][0]']                  \n",
            " rmalization)                                                                                     \n",
            "                                                                                                  \n",
            " dense_5 (Dense)                (None, 65, 3072)     1539072     ['layer_normalization_5[0][0]']  \n",
            "                                                                                                  \n",
            " dropout_4 (Dropout)            (None, 65, 3072)     0           ['dense_5[0][0]']                \n",
            "                                                                                                  \n",
            " dense_6 (Dense)                (None, 65, 500)      1536500     ['dropout_4[0][0]']              \n",
            "                                                                                                  \n",
            " dropout_5 (Dropout)            (None, 65, 500)      0           ['dense_6[0][0]']                \n",
            "                                                                                                  \n",
            " add_5 (Add)                    (None, 65, 500)      0           ['dropout_5[0][0]',              \n",
            "                                                                  'add_4[0][0]']                  \n",
            "                                                                                                  \n",
            " layer_normalization_6 (LayerNo  (None, 65, 500)     1000        ['add_5[0][0]']                  \n",
            " rmalization)                                                                                     \n",
            "                                                                                                  \n",
            " multi_head_attention_3 (MultiH  (None, 65, 500)     12018500    ['layer_normalization_6[0][0]',  \n",
            " eadAttention)                                                    'layer_normalization_6[0][0]']  \n",
            "                                                                                                  \n",
            " add_6 (Add)                    (None, 65, 500)      0           ['multi_head_attention_3[0][0]', \n",
            "                                                                  'add_5[0][0]']                  \n",
            "                                                                                                  \n",
            " layer_normalization_7 (LayerNo  (None, 65, 500)     1000        ['add_6[0][0]']                  \n",
            " rmalization)                                                                                     \n",
            "                                                                                                  \n",
            " dense_7 (Dense)                (None, 65, 3072)     1539072     ['layer_normalization_7[0][0]']  \n",
            "                                                                                                  \n",
            " dropout_6 (Dropout)            (None, 65, 3072)     0           ['dense_7[0][0]']                \n",
            "                                                                                                  \n",
            " dense_8 (Dense)                (None, 65, 500)      1536500     ['dropout_6[0][0]']              \n",
            "                                                                                                  \n",
            " dropout_7 (Dropout)            (None, 65, 500)      0           ['dense_8[0][0]']                \n",
            "                                                                                                  \n",
            " add_7 (Add)                    (None, 65, 500)      0           ['dropout_7[0][0]',              \n",
            "                                                                  'add_6[0][0]']                  \n",
            "                                                                                                  \n",
            " layer_normalization_8 (LayerNo  (None, 65, 500)     1000        ['add_7[0][0]']                  \n",
            " rmalization)                                                                                     \n",
            "                                                                                                  \n",
            " multi_head_attention_4 (MultiH  (None, 65, 500)     12018500    ['layer_normalization_8[0][0]',  \n",
            " eadAttention)                                                    'layer_normalization_8[0][0]']  \n",
            "                                                                                                  \n",
            " add_8 (Add)                    (None, 65, 500)      0           ['multi_head_attention_4[0][0]', \n",
            "                                                                  'add_7[0][0]']                  \n",
            "                                                                                                  \n",
            " layer_normalization_9 (LayerNo  (None, 65, 500)     1000        ['add_8[0][0]']                  \n",
            " rmalization)                                                                                     \n",
            "                                                                                                  \n",
            " dense_9 (Dense)                (None, 65, 3072)     1539072     ['layer_normalization_9[0][0]']  \n",
            "                                                                                                  \n",
            " dropout_8 (Dropout)            (None, 65, 3072)     0           ['dense_9[0][0]']                \n",
            "                                                                                                  \n",
            " dense_10 (Dense)               (None, 65, 500)      1536500     ['dropout_8[0][0]']              \n",
            "                                                                                                  \n",
            " dropout_9 (Dropout)            (None, 65, 500)      0           ['dense_10[0][0]']               \n",
            "                                                                                                  \n",
            " add_9 (Add)                    (None, 65, 500)      0           ['dropout_9[0][0]',              \n",
            "                                                                  'add_8[0][0]']                  \n",
            "                                                                                                  \n",
            " layer_normalization_10 (LayerN  (None, 65, 500)     1000        ['add_9[0][0]']                  \n",
            " ormalization)                                                                                    \n",
            "                                                                                                  \n",
            " multi_head_attention_5 (MultiH  (None, 65, 500)     12018500    ['layer_normalization_10[0][0]', \n",
            " eadAttention)                                                    'layer_normalization_10[0][0]'] \n",
            "                                                                                                  \n",
            " add_10 (Add)                   (None, 65, 500)      0           ['multi_head_attention_5[0][0]', \n",
            "                                                                  'add_9[0][0]']                  \n",
            "                                                                                                  \n",
            " layer_normalization_11 (LayerN  (None, 65, 500)     1000        ['add_10[0][0]']                 \n",
            " ormalization)                                                                                    \n",
            "                                                                                                  \n",
            " dense_11 (Dense)               (None, 65, 3072)     1539072     ['layer_normalization_11[0][0]'] \n",
            "                                                                                                  \n",
            " dropout_10 (Dropout)           (None, 65, 3072)     0           ['dense_11[0][0]']               \n",
            "                                                                                                  \n",
            " dense_12 (Dense)               (None, 65, 500)      1536500     ['dropout_10[0][0]']             \n",
            "                                                                                                  \n",
            " dropout_11 (Dropout)           (None, 65, 500)      0           ['dense_12[0][0]']               \n",
            "                                                                                                  \n",
            " add_11 (Add)                   (None, 65, 500)      0           ['dropout_11[0][0]',             \n",
            "                                                                  'add_10[0][0]']                 \n",
            "                                                                                                  \n",
            " layer_normalization_12 (LayerN  (None, 65, 500)     1000        ['add_11[0][0]']                 \n",
            " ormalization)                                                                                    \n",
            "                                                                                                  \n",
            " multi_head_attention_6 (MultiH  (None, 65, 500)     12018500    ['layer_normalization_12[0][0]', \n",
            " eadAttention)                                                    'layer_normalization_12[0][0]'] \n",
            "                                                                                                  \n",
            " add_12 (Add)                   (None, 65, 500)      0           ['multi_head_attention_6[0][0]', \n",
            "                                                                  'add_11[0][0]']                 \n",
            "                                                                                                  \n",
            " layer_normalization_13 (LayerN  (None, 65, 500)     1000        ['add_12[0][0]']                 \n",
            " ormalization)                                                                                    \n",
            "                                                                                                  \n",
            " dense_13 (Dense)               (None, 65, 3072)     1539072     ['layer_normalization_13[0][0]'] \n",
            "                                                                                                  \n",
            " dropout_12 (Dropout)           (None, 65, 3072)     0           ['dense_13[0][0]']               \n",
            "                                                                                                  \n",
            " dense_14 (Dense)               (None, 65, 500)      1536500     ['dropout_12[0][0]']             \n",
            "                                                                                                  \n",
            " dropout_13 (Dropout)           (None, 65, 500)      0           ['dense_14[0][0]']               \n",
            "                                                                                                  \n",
            " add_13 (Add)                   (None, 65, 500)      0           ['dropout_13[0][0]',             \n",
            "                                                                  'add_12[0][0]']                 \n",
            "                                                                                                  \n",
            " layer_normalization_14 (LayerN  (None, 65, 500)     1000        ['add_13[0][0]']                 \n",
            " ormalization)                                                                                    \n",
            "                                                                                                  \n",
            " multi_head_attention_7 (MultiH  (None, 65, 500)     12018500    ['layer_normalization_14[0][0]', \n",
            " eadAttention)                                                    'layer_normalization_14[0][0]'] \n",
            "                                                                                                  \n",
            " add_14 (Add)                   (None, 65, 500)      0           ['multi_head_attention_7[0][0]', \n",
            "                                                                  'add_13[0][0]']                 \n",
            "                                                                                                  \n",
            " layer_normalization_15 (LayerN  (None, 65, 500)     1000        ['add_14[0][0]']                 \n",
            " ormalization)                                                                                    \n",
            "                                                                                                  \n",
            " dense_15 (Dense)               (None, 65, 3072)     1539072     ['layer_normalization_15[0][0]'] \n",
            "                                                                                                  \n",
            " dropout_14 (Dropout)           (None, 65, 3072)     0           ['dense_15[0][0]']               \n",
            "                                                                                                  \n",
            " dense_16 (Dense)               (None, 65, 500)      1536500     ['dropout_14[0][0]']             \n",
            "                                                                                                  \n",
            " dropout_15 (Dropout)           (None, 65, 500)      0           ['dense_16[0][0]']               \n",
            "                                                                                                  \n",
            " add_15 (Add)                   (None, 65, 500)      0           ['dropout_15[0][0]',             \n",
            "                                                                  'add_14[0][0]']                 \n",
            "                                                                                                  \n",
            " layer_normalization_16 (LayerN  (None, 65, 500)     1000        ['add_15[0][0]']                 \n",
            " ormalization)                                                                                    \n",
            "                                                                                                  \n",
            " multi_head_attention_8 (MultiH  (None, 65, 500)     12018500    ['layer_normalization_16[0][0]', \n",
            " eadAttention)                                                    'layer_normalization_16[0][0]'] \n",
            "                                                                                                  \n",
            " add_16 (Add)                   (None, 65, 500)      0           ['multi_head_attention_8[0][0]', \n",
            "                                                                  'add_15[0][0]']                 \n",
            "                                                                                                  \n",
            " layer_normalization_17 (LayerN  (None, 65, 500)     1000        ['add_16[0][0]']                 \n",
            " ormalization)                                                                                    \n",
            "                                                                                                  \n",
            " dense_17 (Dense)               (None, 65, 3072)     1539072     ['layer_normalization_17[0][0]'] \n",
            "                                                                                                  \n",
            " dropout_16 (Dropout)           (None, 65, 3072)     0           ['dense_17[0][0]']               \n",
            "                                                                                                  \n",
            " dense_18 (Dense)               (None, 65, 500)      1536500     ['dropout_16[0][0]']             \n",
            "                                                                                                  \n",
            " dropout_17 (Dropout)           (None, 65, 500)      0           ['dense_18[0][0]']               \n",
            "                                                                                                  \n",
            " add_17 (Add)                   (None, 65, 500)      0           ['dropout_17[0][0]',             \n",
            "                                                                  'add_16[0][0]']                 \n",
            "                                                                                                  \n",
            " layer_normalization_18 (LayerN  (None, 65, 500)     1000        ['add_17[0][0]']                 \n",
            " ormalization)                                                                                    \n",
            "                                                                                                  \n",
            " multi_head_attention_9 (MultiH  (None, 65, 500)     12018500    ['layer_normalization_18[0][0]', \n",
            " eadAttention)                                                    'layer_normalization_18[0][0]'] \n",
            "                                                                                                  \n",
            " add_18 (Add)                   (None, 65, 500)      0           ['multi_head_attention_9[0][0]', \n",
            "                                                                  'add_17[0][0]']                 \n",
            "                                                                                                  \n",
            " layer_normalization_19 (LayerN  (None, 65, 500)     1000        ['add_18[0][0]']                 \n",
            " ormalization)                                                                                    \n",
            "                                                                                                  \n",
            " dense_19 (Dense)               (None, 65, 3072)     1539072     ['layer_normalization_19[0][0]'] \n",
            "                                                                                                  \n",
            " dropout_18 (Dropout)           (None, 65, 3072)     0           ['dense_19[0][0]']               \n",
            "                                                                                                  \n",
            " dense_20 (Dense)               (None, 65, 500)      1536500     ['dropout_18[0][0]']             \n",
            "                                                                                                  \n",
            " dropout_19 (Dropout)           (None, 65, 500)      0           ['dense_20[0][0]']               \n",
            "                                                                                                  \n",
            " add_19 (Add)                   (None, 65, 500)      0           ['dropout_19[0][0]',             \n",
            "                                                                  'add_18[0][0]']                 \n",
            "                                                                                                  \n",
            " layer_normalization_20 (LayerN  (None, 65, 500)     1000        ['add_19[0][0]']                 \n",
            " ormalization)                                                                                    \n",
            "                                                                                                  \n",
            " multi_head_attention_10 (Multi  (None, 65, 500)     12018500    ['layer_normalization_20[0][0]', \n",
            " HeadAttention)                                                   'layer_normalization_20[0][0]'] \n",
            "                                                                                                  \n",
            " add_20 (Add)                   (None, 65, 500)      0           ['multi_head_attention_10[0][0]',\n",
            "                                                                  'add_19[0][0]']                 \n",
            "                                                                                                  \n",
            " layer_normalization_21 (LayerN  (None, 65, 500)     1000        ['add_20[0][0]']                 \n",
            " ormalization)                                                                                    \n",
            "                                                                                                  \n",
            " dense_21 (Dense)               (None, 65, 3072)     1539072     ['layer_normalization_21[0][0]'] \n",
            "                                                                                                  \n",
            " dropout_20 (Dropout)           (None, 65, 3072)     0           ['dense_21[0][0]']               \n",
            "                                                                                                  \n",
            " dense_22 (Dense)               (None, 65, 500)      1536500     ['dropout_20[0][0]']             \n",
            "                                                                                                  \n",
            " dropout_21 (Dropout)           (None, 65, 500)      0           ['dense_22[0][0]']               \n",
            "                                                                                                  \n",
            " add_21 (Add)                   (None, 65, 500)      0           ['dropout_21[0][0]',             \n",
            "                                                                  'add_20[0][0]']                 \n",
            "                                                                                                  \n",
            " layer_normalization_22 (LayerN  (None, 65, 500)     1000        ['add_21[0][0]']                 \n",
            " ormalization)                                                                                    \n",
            "                                                                                                  \n",
            " multi_head_attention_11 (Multi  (None, 65, 500)     12018500    ['layer_normalization_22[0][0]', \n",
            " HeadAttention)                                                   'layer_normalization_22[0][0]'] \n",
            "                                                                                                  \n",
            " add_22 (Add)                   (None, 65, 500)      0           ['multi_head_attention_11[0][0]',\n",
            "                                                                  'add_21[0][0]']                 \n",
            "                                                                                                  \n",
            " layer_normalization_23 (LayerN  (None, 65, 500)     1000        ['add_22[0][0]']                 \n",
            " ormalization)                                                                                    \n",
            "                                                                                                  \n",
            " dense_23 (Dense)               (None, 65, 3072)     1539072     ['layer_normalization_23[0][0]'] \n",
            "                                                                                                  \n",
            " dropout_22 (Dropout)           (None, 65, 3072)     0           ['dense_23[0][0]']               \n",
            "                                                                                                  \n",
            " dense_24 (Dense)               (None, 65, 500)      1536500     ['dropout_22[0][0]']             \n",
            "                                                                                                  \n",
            " dropout_23 (Dropout)           (None, 65, 500)      0           ['dense_24[0][0]']               \n",
            "                                                                                                  \n",
            " add_23 (Add)                   (None, 65, 500)      0           ['dropout_23[0][0]',             \n",
            "                                                                  'add_22[0][0]']                 \n",
            "                                                                                                  \n",
            " layer_normalization_24 (LayerN  (None, 65, 500)     1000        ['add_23[0][0]']                 \n",
            " ormalization)                                                                                    \n",
            "                                                                                                  \n",
            " tf.__operators__.getitem (Slic  (None, 500)         0           ['layer_normalization_24[0][0]'] \n",
            " ingOpLambda)                                                                                     \n",
            "                                                                                                  \n",
            " dense_25 (Dense)               (None, 9)            4509        ['tf.__operators__.getitem[0][0]'\n",
            "                                                                 ]                                \n",
            "                                                                                                  \n",
            "==================================================================================================\n",
            "Total params: 182,096,873\n",
            "Trainable params: 182,096,873\n",
            "Non-trainable params: 0\n",
            "__________________________________________________________________________________________________\n"
          ]
        }
      ]
    },
    {
      "cell_type": "code",
      "source": [
        "model.compile(\n",
        "    loss=\"categorical_crossentropy\",\n",
        "    optimizer=tf.keras.optimizers.Adam(hp[\"lr\"], clipvalue=1.0),\n",
        "    metrics=['acc']\n",
        ")"
      ],
      "metadata": {
        "id": "ZBeJD74fG0xN"
      },
      "execution_count": 21,
      "outputs": []
    },
    {
      "cell_type": "code",
      "source": [
        "callbacks = [\n",
        "    ModelCheckpoint(model_path, monitor='val_loss', verbose=1, save_best_only=True),\n",
        "    ReduceLROnPlateau(monitor='val_loss', factor=0.1,   patience=10, min_lr=1e-10),\n",
        "    CSVLogger(csv_path),\n",
        "    EarlyStopping(monitor='val_loss', patience=50, restore_best_weights=False)\n",
        "]"
      ],
      "metadata": {
        "id": "fz9EgANzdoaq"
      },
      "execution_count": 22,
      "outputs": []
    },
    {
      "cell_type": "code",
      "source": [
        "model.fit(\n",
        "    train_dataset,\n",
        "    epochs=hp[\"num_epochs\"],\n",
        "    validation_data=valid_dataset,\n",
        "    callbacks=callbacks\n",
        ")"
      ],
      "metadata": {
        "colab": {
          "base_uri": "https://localhost:8080/"
        },
        "id": "vQgUDFVie2CB",
        "outputId": "713240f6-625c-412f-ea8b-bc567b560639"
      },
      "execution_count": 23,
      "outputs": [
        {
          "output_type": "stream",
          "name": "stdout",
          "text": [
            "Epoch 1/100\n",
            "43/43 [==============================] - ETA: 0s - loss: 3.3370 - acc: 0.1118\n",
            "Epoch 1: val_loss improved from inf to 2.47605, saving model to /content/drive/MyDrive/CNN_Models/ViT_for_insect_classification.h5\n",
            "43/43 [==============================] - 220s 5s/step - loss: 3.3370 - acc: 0.1118 - val_loss: 2.4760 - val_acc: 0.1529 - lr: 1.0000e-04\n",
            "Epoch 2/100\n",
            "43/43 [==============================] - ETA: 0s - loss: 2.2898 - acc: 0.1294\n",
            "Epoch 2: val_loss improved from 2.47605 to 2.34911, saving model to /content/drive/MyDrive/CNN_Models/ViT_for_insect_classification.h5\n",
            "43/43 [==============================] - 50s 1s/step - loss: 2.2898 - acc: 0.1294 - val_loss: 2.3491 - val_acc: 0.1529 - lr: 1.0000e-04\n",
            "Epoch 3/100\n",
            "43/43 [==============================] - ETA: 0s - loss: 2.2412 - acc: 0.1559\n",
            "Epoch 3: val_loss improved from 2.34911 to 2.30035, saving model to /content/drive/MyDrive/CNN_Models/ViT_for_insect_classification.h5\n",
            "43/43 [==============================] - 37s 861ms/step - loss: 2.2412 - acc: 0.1559 - val_loss: 2.3003 - val_acc: 0.1882 - lr: 1.0000e-04\n",
            "Epoch 4/100\n",
            "43/43 [==============================] - ETA: 0s - loss: 2.1818 - acc: 0.1779\n",
            "Epoch 4: val_loss improved from 2.30035 to 2.27159, saving model to /content/drive/MyDrive/CNN_Models/ViT_for_insect_classification.h5\n",
            "43/43 [==============================] - 35s 811ms/step - loss: 2.1818 - acc: 0.1779 - val_loss: 2.2716 - val_acc: 0.1529 - lr: 1.0000e-04\n",
            "Epoch 5/100\n",
            "43/43 [==============================] - ETA: 0s - loss: 2.1123 - acc: 0.2074\n",
            "Epoch 5: val_loss improved from 2.27159 to 2.23623, saving model to /content/drive/MyDrive/CNN_Models/ViT_for_insect_classification.h5\n",
            "43/43 [==============================] - 36s 816ms/step - loss: 2.1123 - acc: 0.2074 - val_loss: 2.2362 - val_acc: 0.1882 - lr: 1.0000e-04\n",
            "Epoch 6/100\n",
            "43/43 [==============================] - ETA: 0s - loss: 2.0629 - acc: 0.2353\n",
            "Epoch 6: val_loss improved from 2.23623 to 2.14624, saving model to /content/drive/MyDrive/CNN_Models/ViT_for_insect_classification.h5\n",
            "43/43 [==============================] - 36s 823ms/step - loss: 2.0629 - acc: 0.2353 - val_loss: 2.1462 - val_acc: 0.2235 - lr: 1.0000e-04\n",
            "Epoch 7/100\n",
            "43/43 [==============================] - ETA: 0s - loss: 1.9966 - acc: 0.2559\n",
            "Epoch 7: val_loss improved from 2.14624 to 2.05248, saving model to /content/drive/MyDrive/CNN_Models/ViT_for_insect_classification.h5\n",
            "43/43 [==============================] - 39s 899ms/step - loss: 1.9966 - acc: 0.2559 - val_loss: 2.0525 - val_acc: 0.2118 - lr: 1.0000e-04\n",
            "Epoch 8/100\n",
            "43/43 [==============================] - ETA: 0s - loss: 1.9760 - acc: 0.2706\n",
            "Epoch 8: val_loss did not improve from 2.05248\n",
            "43/43 [==============================] - 26s 592ms/step - loss: 1.9760 - acc: 0.2706 - val_loss: 2.0588 - val_acc: 0.2000 - lr: 1.0000e-04\n",
            "Epoch 9/100\n",
            "43/43 [==============================] - ETA: 0s - loss: 1.9165 - acc: 0.2985\n",
            "Epoch 9: val_loss did not improve from 2.05248\n",
            "43/43 [==============================] - 27s 608ms/step - loss: 1.9165 - acc: 0.2985 - val_loss: 2.0818 - val_acc: 0.2824 - lr: 1.0000e-04\n",
            "Epoch 10/100\n",
            "43/43 [==============================] - ETA: 0s - loss: 1.8972 - acc: 0.3088\n",
            "Epoch 10: val_loss improved from 2.05248 to 2.01338, saving model to /content/drive/MyDrive/CNN_Models/ViT_for_insect_classification.h5\n",
            "43/43 [==============================] - 48s 1s/step - loss: 1.8972 - acc: 0.3088 - val_loss: 2.0134 - val_acc: 0.3059 - lr: 1.0000e-04\n",
            "Epoch 11/100\n",
            "43/43 [==============================] - ETA: 0s - loss: 1.8497 - acc: 0.3176\n",
            "Epoch 11: val_loss did not improve from 2.01338\n",
            "43/43 [==============================] - 25s 575ms/step - loss: 1.8497 - acc: 0.3176 - val_loss: 2.1159 - val_acc: 0.2824 - lr: 1.0000e-04\n",
            "Epoch 12/100\n",
            "43/43 [==============================] - ETA: 0s - loss: 1.8050 - acc: 0.3353\n",
            "Epoch 12: val_loss improved from 2.01338 to 1.99052, saving model to /content/drive/MyDrive/CNN_Models/ViT_for_insect_classification.h5\n",
            "43/43 [==============================] - 49s 1s/step - loss: 1.8050 - acc: 0.3353 - val_loss: 1.9905 - val_acc: 0.2941 - lr: 1.0000e-04\n",
            "Epoch 13/100\n",
            "43/43 [==============================] - ETA: 0s - loss: 1.7786 - acc: 0.3456\n",
            "Epoch 13: val_loss improved from 1.99052 to 1.91813, saving model to /content/drive/MyDrive/CNN_Models/ViT_for_insect_classification.h5\n",
            "43/43 [==============================] - 36s 827ms/step - loss: 1.7786 - acc: 0.3456 - val_loss: 1.9181 - val_acc: 0.2941 - lr: 1.0000e-04\n",
            "Epoch 14/100\n",
            "43/43 [==============================] - ETA: 0s - loss: 1.6485 - acc: 0.3971\n",
            "Epoch 14: val_loss improved from 1.91813 to 1.90992, saving model to /content/drive/MyDrive/CNN_Models/ViT_for_insect_classification.h5\n",
            "43/43 [==============================] - 37s 850ms/step - loss: 1.6485 - acc: 0.3971 - val_loss: 1.9099 - val_acc: 0.3294 - lr: 1.0000e-04\n",
            "Epoch 15/100\n",
            "43/43 [==============================] - ETA: 0s - loss: 1.6826 - acc: 0.3853\n",
            "Epoch 15: val_loss did not improve from 1.90992\n",
            "43/43 [==============================] - 25s 581ms/step - loss: 1.6826 - acc: 0.3853 - val_loss: 2.0433 - val_acc: 0.3059 - lr: 1.0000e-04\n",
            "Epoch 16/100\n",
            "43/43 [==============================] - ETA: 0s - loss: 1.6503 - acc: 0.4294\n",
            "Epoch 16: val_loss did not improve from 1.90992\n",
            "43/43 [==============================] - 25s 579ms/step - loss: 1.6503 - acc: 0.4294 - val_loss: 2.0567 - val_acc: 0.3765 - lr: 1.0000e-04\n",
            "Epoch 17/100\n",
            "43/43 [==============================] - ETA: 0s - loss: 1.5690 - acc: 0.4574\n",
            "Epoch 17: val_loss did not improve from 1.90992\n",
            "43/43 [==============================] - 24s 553ms/step - loss: 1.5690 - acc: 0.4574 - val_loss: 2.1468 - val_acc: 0.3412 - lr: 1.0000e-04\n",
            "Epoch 18/100\n",
            "43/43 [==============================] - ETA: 0s - loss: 1.4787 - acc: 0.4853\n",
            "Epoch 18: val_loss did not improve from 1.90992\n",
            "43/43 [==============================] - 24s 559ms/step - loss: 1.4787 - acc: 0.4853 - val_loss: 2.3094 - val_acc: 0.2941 - lr: 1.0000e-04\n",
            "Epoch 19/100\n",
            "43/43 [==============================] - ETA: 0s - loss: 1.4637 - acc: 0.5015\n",
            "Epoch 19: val_loss did not improve from 1.90992\n",
            "43/43 [==============================] - 25s 575ms/step - loss: 1.4637 - acc: 0.5015 - val_loss: 2.3850 - val_acc: 0.3059 - lr: 1.0000e-04\n",
            "Epoch 20/100\n",
            "43/43 [==============================] - ETA: 0s - loss: 1.6171 - acc: 0.4485\n",
            "Epoch 20: val_loss did not improve from 1.90992\n",
            "43/43 [==============================] - 24s 555ms/step - loss: 1.6171 - acc: 0.4485 - val_loss: 2.2485 - val_acc: 0.2941 - lr: 1.0000e-04\n",
            "Epoch 21/100\n",
            "43/43 [==============================] - ETA: 0s - loss: 2.0631 - acc: 0.2338\n",
            "Epoch 21: val_loss did not improve from 1.90992\n",
            "43/43 [==============================] - 24s 556ms/step - loss: 2.0631 - acc: 0.2338 - val_loss: 2.0709 - val_acc: 0.1765 - lr: 1.0000e-04\n",
            "Epoch 22/100\n",
            "43/43 [==============================] - ETA: 0s - loss: 1.8714 - acc: 0.2956\n",
            "Epoch 22: val_loss did not improve from 1.90992\n",
            "43/43 [==============================] - 24s 557ms/step - loss: 1.8714 - acc: 0.2956 - val_loss: 2.0460 - val_acc: 0.2588 - lr: 1.0000e-04\n",
            "Epoch 23/100\n",
            "43/43 [==============================] - ETA: 0s - loss: 1.7059 - acc: 0.3603\n",
            "Epoch 23: val_loss did not improve from 1.90992\n",
            "43/43 [==============================] - 26s 591ms/step - loss: 1.7059 - acc: 0.3603 - val_loss: 1.9672 - val_acc: 0.3765 - lr: 1.0000e-04\n",
            "Epoch 24/100\n",
            "43/43 [==============================] - ETA: 0s - loss: 1.5154 - acc: 0.4632\n",
            "Epoch 24: val_loss did not improve from 1.90992\n",
            "43/43 [==============================] - 25s 560ms/step - loss: 1.5154 - acc: 0.4632 - val_loss: 2.0075 - val_acc: 0.2706 - lr: 1.0000e-04\n",
            "Epoch 25/100\n",
            "43/43 [==============================] - ETA: 0s - loss: 1.3027 - acc: 0.5809\n",
            "Epoch 25: val_loss did not improve from 1.90992\n",
            "43/43 [==============================] - 25s 561ms/step - loss: 1.3027 - acc: 0.5809 - val_loss: 1.9101 - val_acc: 0.3412 - lr: 1.0000e-05\n",
            "Epoch 26/100\n",
            "43/43 [==============================] - ETA: 0s - loss: 1.2443 - acc: 0.5926\n",
            "Epoch 26: val_loss did not improve from 1.90992\n",
            "43/43 [==============================] - 25s 571ms/step - loss: 1.2443 - acc: 0.5926 - val_loss: 1.9693 - val_acc: 0.3412 - lr: 1.0000e-05\n",
            "Epoch 27/100\n",
            "43/43 [==============================] - ETA: 0s - loss: 1.1616 - acc: 0.6250\n",
            "Epoch 27: val_loss did not improve from 1.90992\n",
            "43/43 [==============================] - 25s 564ms/step - loss: 1.1616 - acc: 0.6250 - val_loss: 1.9695 - val_acc: 0.3529 - lr: 1.0000e-05\n",
            "Epoch 28/100\n",
            "43/43 [==============================] - ETA: 0s - loss: 1.1051 - acc: 0.6279\n",
            "Epoch 28: val_loss did not improve from 1.90992\n",
            "43/43 [==============================] - 25s 559ms/step - loss: 1.1051 - acc: 0.6279 - val_loss: 2.0548 - val_acc: 0.3294 - lr: 1.0000e-05\n",
            "Epoch 29/100\n",
            "43/43 [==============================] - ETA: 0s - loss: 1.0660 - acc: 0.6559\n",
            "Epoch 29: val_loss did not improve from 1.90992\n",
            "43/43 [==============================] - 25s 562ms/step - loss: 1.0660 - acc: 0.6559 - val_loss: 2.1289 - val_acc: 0.3529 - lr: 1.0000e-05\n",
            "Epoch 30/100\n",
            "43/43 [==============================] - ETA: 0s - loss: 1.0297 - acc: 0.6618\n",
            "Epoch 30: val_loss did not improve from 1.90992\n",
            "43/43 [==============================] - 25s 561ms/step - loss: 1.0297 - acc: 0.6618 - val_loss: 1.9742 - val_acc: 0.3882 - lr: 1.0000e-05\n",
            "Epoch 31/100\n",
            "43/43 [==============================] - ETA: 0s - loss: 0.9947 - acc: 0.6779\n",
            "Epoch 31: val_loss did not improve from 1.90992\n",
            "43/43 [==============================] - 24s 557ms/step - loss: 0.9947 - acc: 0.6779 - val_loss: 2.1092 - val_acc: 0.3882 - lr: 1.0000e-05\n",
            "Epoch 32/100\n",
            "43/43 [==============================] - ETA: 0s - loss: 0.9557 - acc: 0.6882\n",
            "Epoch 32: val_loss did not improve from 1.90992\n",
            "43/43 [==============================] - 24s 559ms/step - loss: 0.9557 - acc: 0.6882 - val_loss: 2.0911 - val_acc: 0.3765 - lr: 1.0000e-05\n",
            "Epoch 33/100\n",
            "43/43 [==============================] - ETA: 0s - loss: 0.9247 - acc: 0.7074\n",
            "Epoch 33: val_loss did not improve from 1.90992\n",
            "43/43 [==============================] - 26s 605ms/step - loss: 0.9247 - acc: 0.7074 - val_loss: 2.2578 - val_acc: 0.3882 - lr: 1.0000e-05\n",
            "Epoch 34/100\n",
            "43/43 [==============================] - ETA: 0s - loss: 0.8857 - acc: 0.7132\n",
            "Epoch 34: val_loss did not improve from 1.90992\n",
            "43/43 [==============================] - 25s 559ms/step - loss: 0.8857 - acc: 0.7132 - val_loss: 2.0964 - val_acc: 0.3882 - lr: 1.0000e-05\n",
            "Epoch 35/100\n",
            "43/43 [==============================] - ETA: 0s - loss: 0.8586 - acc: 0.7103\n",
            "Epoch 35: val_loss did not improve from 1.90992\n",
            "43/43 [==============================] - 25s 563ms/step - loss: 0.8586 - acc: 0.7103 - val_loss: 2.2563 - val_acc: 0.3529 - lr: 1.0000e-06\n",
            "Epoch 36/100\n",
            "43/43 [==============================] - ETA: 0s - loss: 0.8202 - acc: 0.7309\n",
            "Epoch 36: val_loss did not improve from 1.90992\n",
            "43/43 [==============================] - 25s 569ms/step - loss: 0.8202 - acc: 0.7309 - val_loss: 2.3388 - val_acc: 0.3765 - lr: 1.0000e-06\n",
            "Epoch 37/100\n",
            "43/43 [==============================] - ETA: 0s - loss: 0.8061 - acc: 0.7397\n",
            "Epoch 37: val_loss did not improve from 1.90992\n",
            "43/43 [==============================] - 25s 574ms/step - loss: 0.8061 - acc: 0.7397 - val_loss: 2.3842 - val_acc: 0.3765 - lr: 1.0000e-06\n",
            "Epoch 38/100\n",
            "43/43 [==============================] - ETA: 0s - loss: 0.7998 - acc: 0.7441\n",
            "Epoch 38: val_loss did not improve from 1.90992\n",
            "43/43 [==============================] - 25s 568ms/step - loss: 0.7998 - acc: 0.7441 - val_loss: 2.3752 - val_acc: 0.3882 - lr: 1.0000e-06\n",
            "Epoch 39/100\n",
            "43/43 [==============================] - ETA: 0s - loss: 0.7900 - acc: 0.7471\n",
            "Epoch 39: val_loss did not improve from 1.90992\n",
            "43/43 [==============================] - 25s 572ms/step - loss: 0.7900 - acc: 0.7471 - val_loss: 2.3711 - val_acc: 0.4000 - lr: 1.0000e-06\n",
            "Epoch 40/100\n",
            "43/43 [==============================] - ETA: 0s - loss: 0.7904 - acc: 0.7309\n",
            "Epoch 40: val_loss did not improve from 1.90992\n",
            "43/43 [==============================] - 25s 569ms/step - loss: 0.7904 - acc: 0.7309 - val_loss: 2.3737 - val_acc: 0.4118 - lr: 1.0000e-06\n",
            "Epoch 41/100\n",
            "43/43 [==============================] - ETA: 0s - loss: 0.7822 - acc: 0.7456\n",
            "Epoch 41: val_loss did not improve from 1.90992\n",
            "43/43 [==============================] - 25s 568ms/step - loss: 0.7822 - acc: 0.7456 - val_loss: 2.4244 - val_acc: 0.4000 - lr: 1.0000e-06\n",
            "Epoch 42/100\n",
            "43/43 [==============================] - ETA: 0s - loss: 0.7779 - acc: 0.7397\n",
            "Epoch 42: val_loss did not improve from 1.90992\n",
            "43/43 [==============================] - 25s 569ms/step - loss: 0.7779 - acc: 0.7397 - val_loss: 2.4121 - val_acc: 0.3882 - lr: 1.0000e-06\n",
            "Epoch 43/100\n",
            "43/43 [==============================] - ETA: 0s - loss: 0.7738 - acc: 0.7426\n",
            "Epoch 43: val_loss did not improve from 1.90992\n",
            "43/43 [==============================] - 25s 566ms/step - loss: 0.7738 - acc: 0.7426 - val_loss: 2.4232 - val_acc: 0.3882 - lr: 1.0000e-06\n",
            "Epoch 44/100\n",
            "43/43 [==============================] - ETA: 0s - loss: 0.7621 - acc: 0.7603\n",
            "Epoch 44: val_loss did not improve from 1.90992\n",
            "43/43 [==============================] - 26s 601ms/step - loss: 0.7621 - acc: 0.7603 - val_loss: 2.4281 - val_acc: 0.3765 - lr: 1.0000e-06\n",
            "Epoch 45/100\n",
            "43/43 [==============================] - ETA: 0s - loss: 0.7607 - acc: 0.7456\n",
            "Epoch 45: val_loss did not improve from 1.90992\n",
            "43/43 [==============================] - 25s 564ms/step - loss: 0.7607 - acc: 0.7456 - val_loss: 2.4281 - val_acc: 0.3765 - lr: 1.0000e-07\n",
            "Epoch 46/100\n",
            "43/43 [==============================] - ETA: 0s - loss: 0.7508 - acc: 0.7603\n",
            "Epoch 46: val_loss did not improve from 1.90992\n",
            "43/43 [==============================] - 25s 575ms/step - loss: 0.7508 - acc: 0.7603 - val_loss: 2.4296 - val_acc: 0.3765 - lr: 1.0000e-07\n",
            "Epoch 47/100\n",
            "43/43 [==============================] - ETA: 0s - loss: 0.7560 - acc: 0.7574\n",
            "Epoch 47: val_loss did not improve from 1.90992\n",
            "43/43 [==============================] - 25s 569ms/step - loss: 0.7560 - acc: 0.7574 - val_loss: 2.4307 - val_acc: 0.3765 - lr: 1.0000e-07\n",
            "Epoch 48/100\n",
            "43/43 [==============================] - ETA: 0s - loss: 0.7466 - acc: 0.7559\n",
            "Epoch 48: val_loss did not improve from 1.90992\n",
            "43/43 [==============================] - 25s 575ms/step - loss: 0.7466 - acc: 0.7559 - val_loss: 2.4303 - val_acc: 0.3765 - lr: 1.0000e-07\n",
            "Epoch 49/100\n",
            "43/43 [==============================] - ETA: 0s - loss: 0.7446 - acc: 0.7662\n",
            "Epoch 49: val_loss did not improve from 1.90992\n",
            "43/43 [==============================] - 25s 574ms/step - loss: 0.7446 - acc: 0.7662 - val_loss: 2.4309 - val_acc: 0.3765 - lr: 1.0000e-07\n",
            "Epoch 50/100\n",
            "43/43 [==============================] - ETA: 0s - loss: 0.7501 - acc: 0.7500\n",
            "Epoch 50: val_loss did not improve from 1.90992\n",
            "43/43 [==============================] - 25s 571ms/step - loss: 0.7501 - acc: 0.7500 - val_loss: 2.4315 - val_acc: 0.3765 - lr: 1.0000e-07\n",
            "Epoch 51/100\n",
            "43/43 [==============================] - ETA: 0s - loss: 0.7399 - acc: 0.7662\n",
            "Epoch 51: val_loss did not improve from 1.90992\n",
            "43/43 [==============================] - 25s 569ms/step - loss: 0.7399 - acc: 0.7662 - val_loss: 2.4330 - val_acc: 0.3765 - lr: 1.0000e-07\n",
            "Epoch 52/100\n",
            "43/43 [==============================] - ETA: 0s - loss: 0.7437 - acc: 0.7588\n",
            "Epoch 52: val_loss did not improve from 1.90992\n",
            "43/43 [==============================] - 25s 575ms/step - loss: 0.7437 - acc: 0.7588 - val_loss: 2.4342 - val_acc: 0.3765 - lr: 1.0000e-07\n",
            "Epoch 53/100\n",
            "43/43 [==============================] - ETA: 0s - loss: 0.7514 - acc: 0.7559\n",
            "Epoch 53: val_loss did not improve from 1.90992\n",
            "43/43 [==============================] - 25s 568ms/step - loss: 0.7514 - acc: 0.7559 - val_loss: 2.4362 - val_acc: 0.3765 - lr: 1.0000e-07\n",
            "Epoch 54/100\n",
            "43/43 [==============================] - ETA: 0s - loss: 0.7504 - acc: 0.7574\n",
            "Epoch 54: val_loss did not improve from 1.90992\n",
            "43/43 [==============================] - 25s 570ms/step - loss: 0.7504 - acc: 0.7574 - val_loss: 2.4384 - val_acc: 0.3765 - lr: 1.0000e-07\n",
            "Epoch 55/100\n",
            "43/43 [==============================] - ETA: 0s - loss: 0.7427 - acc: 0.7574\n",
            "Epoch 55: val_loss did not improve from 1.90992\n",
            "43/43 [==============================] - 25s 569ms/step - loss: 0.7427 - acc: 0.7574 - val_loss: 2.4386 - val_acc: 0.3765 - lr: 1.0000e-08\n",
            "Epoch 56/100\n",
            "43/43 [==============================] - ETA: 0s - loss: 0.7521 - acc: 0.7559\n",
            "Epoch 56: val_loss did not improve from 1.90992\n",
            "43/43 [==============================] - 25s 568ms/step - loss: 0.7521 - acc: 0.7559 - val_loss: 2.4387 - val_acc: 0.3765 - lr: 1.0000e-08\n",
            "Epoch 57/100\n",
            "43/43 [==============================] - ETA: 0s - loss: 0.7543 - acc: 0.7588\n",
            "Epoch 57: val_loss did not improve from 1.90992\n",
            "43/43 [==============================] - 25s 575ms/step - loss: 0.7543 - acc: 0.7588 - val_loss: 2.4386 - val_acc: 0.3765 - lr: 1.0000e-08\n",
            "Epoch 58/100\n",
            "43/43 [==============================] - ETA: 0s - loss: 0.7433 - acc: 0.7618\n",
            "Epoch 58: val_loss did not improve from 1.90992\n",
            "43/43 [==============================] - 25s 564ms/step - loss: 0.7433 - acc: 0.7618 - val_loss: 2.4388 - val_acc: 0.3765 - lr: 1.0000e-08\n",
            "Epoch 59/100\n",
            "43/43 [==============================] - ETA: 0s - loss: 0.7444 - acc: 0.7618\n",
            "Epoch 59: val_loss did not improve from 1.90992\n",
            "43/43 [==============================] - 25s 562ms/step - loss: 0.7444 - acc: 0.7618 - val_loss: 2.4391 - val_acc: 0.3765 - lr: 1.0000e-08\n",
            "Epoch 60/100\n",
            "43/43 [==============================] - ETA: 0s - loss: 0.7464 - acc: 0.7662\n",
            "Epoch 60: val_loss did not improve from 1.90992\n",
            "43/43 [==============================] - 25s 574ms/step - loss: 0.7464 - acc: 0.7662 - val_loss: 2.4390 - val_acc: 0.3765 - lr: 1.0000e-08\n",
            "Epoch 61/100\n",
            "43/43 [==============================] - ETA: 0s - loss: 0.7483 - acc: 0.7559\n",
            "Epoch 61: val_loss did not improve from 1.90992\n",
            "43/43 [==============================] - 25s 572ms/step - loss: 0.7483 - acc: 0.7559 - val_loss: 2.4391 - val_acc: 0.3765 - lr: 1.0000e-08\n",
            "Epoch 62/100\n",
            "43/43 [==============================] - ETA: 0s - loss: 0.7397 - acc: 0.7662\n",
            "Epoch 62: val_loss did not improve from 1.90992\n",
            "43/43 [==============================] - 25s 562ms/step - loss: 0.7397 - acc: 0.7662 - val_loss: 2.4392 - val_acc: 0.3765 - lr: 1.0000e-08\n",
            "Epoch 63/100\n",
            "43/43 [==============================] - ETA: 0s - loss: 0.7448 - acc: 0.7574\n",
            "Epoch 63: val_loss did not improve from 1.90992\n",
            "43/43 [==============================] - 25s 575ms/step - loss: 0.7448 - acc: 0.7574 - val_loss: 2.4393 - val_acc: 0.3765 - lr: 1.0000e-08\n",
            "Epoch 64/100\n",
            "43/43 [==============================] - ETA: 0s - loss: 0.7441 - acc: 0.7588\n",
            "Epoch 64: val_loss did not improve from 1.90992\n",
            "43/43 [==============================] - 26s 587ms/step - loss: 0.7441 - acc: 0.7588 - val_loss: 2.4395 - val_acc: 0.3765 - lr: 1.0000e-08\n"
          ]
        },
        {
          "output_type": "execute_result",
          "data": {
            "text/plain": [
              "<keras.callbacks.History at 0x7f6610ec9bb0>"
            ]
          },
          "metadata": {},
          "execution_count": 23
        }
      ]
    },
    {
      "cell_type": "markdown",
      "source": [
        "#Prediction"
      ],
      "metadata": {
        "id": "APNlzyB60pMI"
      }
    },
    {
      "cell_type": "code",
      "source": [
        "test_dataset = tf_dataset(test_x, batch=hp['batch_size'])"
      ],
      "metadata": {
        "id": "nnNUPWjy6t76"
      },
      "execution_count": 24,
      "outputs": []
    },
    {
      "cell_type": "code",
      "source": [
        "model.evaluate(test_dataset)"
      ],
      "metadata": {
        "colab": {
          "base_uri": "https://localhost:8080/"
        },
        "id": "lyL365MH08bf",
        "outputId": "a7218bac-bd99-4b2c-cba8-9bed0e5ed729"
      },
      "execution_count": 25,
      "outputs": [
        {
          "output_type": "stream",
          "name": "stdout",
          "text": [
            "6/6 [==============================] - 3s 546ms/step - loss: 3.0084 - acc: 0.3647\n"
          ]
        },
        {
          "output_type": "execute_result",
          "data": {
            "text/plain": [
              "[3.0083696842193604, 0.364705890417099]"
            ]
          },
          "metadata": {},
          "execution_count": 25
        }
      ]
    },
    {
      "cell_type": "code",
      "source": [],
      "metadata": {
        "id": "eR-hs8Kl1YNT"
      },
      "execution_count": 25,
      "outputs": []
    }
  ]
}