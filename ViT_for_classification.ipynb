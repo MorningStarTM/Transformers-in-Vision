{
  "nbformat": 4,
  "nbformat_minor": 0,
  "metadata": {
    "colab": {
      "provenance": [],
      "mount_file_id": "1oVVIwQSVIXFTagDvpIdhCf0u2_rluVdX",
      "authorship_tag": "ABX9TyN4XzCnZNATjC1/E2BaoJYp",
      "include_colab_link": true
    },
    "kernelspec": {
      "name": "python3",
      "display_name": "Python 3"
    },
    "language_info": {
      "name": "python"
    }
  },
  "cells": [
    {
      "cell_type": "markdown",
      "metadata": {
        "id": "view-in-github",
        "colab_type": "text"
      },
      "source": [
        "<a href=\"https://colab.research.google.com/github/MorningStarTM/Transformers-in-Vision/blob/main/ViT_for_classification.ipynb\" target=\"_parent\"><img src=\"https://colab.research.google.com/assets/colab-badge.svg\" alt=\"Open In Colab\"/></a>"
      ]
    },
    {
      "cell_type": "code",
      "execution_count": 12,
      "metadata": {
        "id": "7YtNmAUNkDmN"
      },
      "outputs": [],
      "source": [
        "import os\n",
        "import numpy as np\n",
        "import matplotlib.pyplot as plt\n",
        "import cv2\n",
        "import random\n",
        "from glob import glob\n",
        "import tensorflow as tf\n",
        "from sklearn.utils import shuffle\n",
        "from patchify import patchify\n",
        "from tensorflow.keras.layers import BatchNormalization, Dense, Flatten, Conv2D, Conv2DTranspose, Input\n",
        "from tensorflow.keras.callbacks import Callback\n",
        "from sklearn.model_selection import train_test_split\n",
        "from sklearn import metrics"
      ]
    },
    {
      "cell_type": "code",
      "source": [
        "hp = {}\n",
        "hp['image_size'] = 200\n",
        "hp['num_channel'] = 3\n",
        "hp['patch_size'] = 25\n",
        "hp['num_patches'] = (hp['image_size']**2) // (hp['patch_size']**2)\n",
        "hp['flat_patches_shape'] = (hp['num_patches'], hp['patch_size']*hp['patch_size']*hp['num_channel'])\n",
        "\n",
        "hp['batch_size'] = 32\n",
        "hp['lr'] = 1e-4\n",
        "hp['num_epochs'] = 500\n",
        "hp['num_classes'] = 9\n",
        "hp['class_names'] = [\"Ant\", \"Butterfly\", \"Cockroach\", \"Frog\", \"Grasshopper\", \"Honey bee\", \"Spider\", \"dragonfly\", \"lizard\"]"
      ],
      "metadata": {
        "id": "IIwt-ayzjr-Y"
      },
      "execution_count": 1,
      "outputs": []
    },
    {
      "cell_type": "code",
      "source": [
        "!unzip \"/content/drive/MyDrive/archive podiwije.zip\" -d \"/content/drive/MyDrive/DataSet/Insects/\""
      ],
      "metadata": {
        "id": "AEAqzic4lV_7"
      },
      "execution_count": null,
      "outputs": []
    },
    {
      "cell_type": "code",
      "source": [
        "dataset_path = \"/content/drive/MyDrive/DataSet/Insects/Reptiles-Insects\""
      ],
      "metadata": {
        "id": "VI6YB9_PV1iy"
      },
      "execution_count": 3,
      "outputs": []
    },
    {
      "cell_type": "code",
      "source": [
        "def create_dir(path):\n",
        "  if not os.path.exists(path):\n",
        "    os.makedirs(path)"
      ],
      "metadata": {
        "id": "kQoCu05Sngs3"
      },
      "execution_count": 4,
      "outputs": []
    },
    {
      "cell_type": "code",
      "source": [
        "def load_data(path, split=0.1):\n",
        "  images = shuffle(glob(os.path.join(path, \"*\", \"*.jpg\")))\n",
        "  \n",
        "  split_size = int(len(images) * split)\n",
        "  train_x, valid_x = train_test_split(images, test_size=split_size, random_state=42)\n",
        "  train_x, test_x = train_test_split(train_x, test_size=split_size, random_state=42)\n",
        "\n",
        "  return train_x, valid_x, test_x"
      ],
      "metadata": {
        "id": "wb7uK2h2mowR"
      },
      "execution_count": 13,
      "outputs": []
    },
    {
      "cell_type": "code",
      "source": [
        "def process_image_label(path):\n",
        "  #read image\n",
        "  image = cv2.imread(path, cv2.IMREAD_COLOR)\n",
        "  #resize the image\n",
        "  image = cv2.resize(image, (hp['image_size'], hp['image_size']))\n",
        "  #scale the image\n",
        "  image = image/255.0\n",
        "  print(image.shape)\n",
        "\n",
        "  #image into patch\n",
        "  patch_shape = (hp['patch_size'], hp['patch_size'], hp['num_channel'])\n",
        "  patches = patchify(image, patch_shape, hp['patch_size'])\n",
        "\n",
        "  patches = np.reshape(patches, hp['flat_patches_shape'])\n",
        "  patches = patches.astype(np.float32)\n",
        "  print(path)\n",
        "\n",
        "  #labeling\n",
        "  class_name = path.split('/')[-2]\n",
        "  class_idx = hp['class_names'].index(class_name)\n",
        "  class_idx = np.array(class_idx, dtype=np.int32)\n",
        "  print(class_idx)\n",
        "\n",
        "  return patches, class_idx"
      ],
      "metadata": {
        "id": "uhj0VIWomvsf"
      },
      "execution_count": 25,
      "outputs": []
    },
    {
      "cell_type": "code",
      "source": [
        "#we used opencv to read images not tensorflow. so we need to use tf.numpy_function to use these function in tensorflow\n",
        "def parse(path):\n",
        "  patches, labels = tf.numpy_function(process_image_label, [path], [tf.float32, tf.int32])"
      ],
      "metadata": {
        "id": "5XmF8f5Ys6CW"
      },
      "execution_count": 26,
      "outputs": []
    },
    {
      "cell_type": "code",
      "source": [
        "train_x, valid_x, test_x = load_data(dataset_path)"
      ],
      "metadata": {
        "id": "wuaUgiODmgXA"
      },
      "execution_count": 14,
      "outputs": []
    },
    {
      "cell_type": "code",
      "source": [
        "print(f\"Train: {len(train_x)} Valid: {len(valid_x)} Test: {len(test_x)}\")"
      ],
      "metadata": {
        "colab": {
          "base_uri": "https://localhost:8080/"
        },
        "id": "lVWcWGUkv-1O",
        "outputId": "ad7970e8-8fdc-4bf6-bbae-a5b0912a31a4"
      },
      "execution_count": 15,
      "outputs": [
        {
          "output_type": "stream",
          "name": "stdout",
          "text": [
            "Train: 680 Valid: 85 Test: 85\n"
          ]
        }
      ]
    },
    {
      "cell_type": "code",
      "source": [
        "process_image_label(train_x[0])"
      ],
      "metadata": {
        "id": "FtMATx_X0cy-",
        "colab": {
          "base_uri": "https://localhost:8080/"
        },
        "outputId": "aab3ed46-c8e0-47d4-c420-584764b333b0"
      },
      "execution_count": 22,
      "outputs": [
        {
          "output_type": "stream",
          "name": "stdout",
          "text": [
            "(200, 200, 3)\n",
            "/content/drive/MyDrive/DataSet/Insects/Reptiles-Insects/Spider/image (68).jpg\n",
            "6\n"
          ]
        }
      ]
    },
    {
      "cell_type": "code",
      "source": [],
      "metadata": {
        "id": "WdYonuotnNPp"
      },
      "execution_count": null,
      "outputs": []
    }
  ]
}